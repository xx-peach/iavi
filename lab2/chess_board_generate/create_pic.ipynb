{
 "cells": [
  {
   "cell_type": "code",
   "execution_count": 3,
   "source": [
    "import cv2\n",
    "import numpy as np"
   ],
   "outputs": [],
   "metadata": {}
  },
  {
   "cell_type": "code",
   "execution_count": 15,
   "source": [
    "wht = np.ones((100, 100, 3), dtype=np.int8)\n",
    "wht = 255*wht\n",
    "# cv2.imwrite('white.png', wht)"
   ],
   "outputs": [],
   "metadata": {}
  },
  {
   "cell_type": "code",
   "execution_count": 32,
   "source": [
    "blk = np.zeros((100, 100, 3), dtype=np.int8)\n",
    "# cv2.imwrite('black.png', blk)"
   ],
   "outputs": [],
   "metadata": {}
  },
  {
   "cell_type": "code",
   "execution_count": 43,
   "source": [
    "numX = 9\n",
    "numY = 9\n",
    "\n",
    "ret = np.ones((100*numX, 100*numY, 3), dtype=np.int8)\n",
    "ret = 255*ret\n",
    "cnti = 0\n",
    "\n",
    "for i in range(numX):\n",
    "    cnti = 1 - cnti\n",
    "    cnt = cnti\n",
    "    for j in range(numY):\n",
    "        if cnt % 2 == 0:\n",
    "            # print(i, j)\n",
    "            ret[i*100:i*100+100, j*100:j*100+100, :] = blk\n",
    "        cnt += 1\n"
   ],
   "outputs": [],
   "metadata": {}
  },
  {
   "cell_type": "code",
   "execution_count": 44,
   "source": [
    "cv2.imwrite('result.png', ret)"
   ],
   "outputs": [
    {
     "output_type": "execute_result",
     "data": {
      "text/plain": [
       "True"
      ]
     },
     "metadata": {},
     "execution_count": 44
    }
   ],
   "metadata": {}
  },
  {
   "cell_type": "code",
   "execution_count": null,
   "source": [],
   "outputs": [],
   "metadata": {}
  },
  {
   "cell_type": "code",
   "execution_count": 1,
   "source": [
    "import os\n",
    "import cv2\n",
    "import numpy as np\n",
    "\n",
    "old_path = '../camera_calibration/images/original/size'\n",
    "new_path = '../camera_calibration/images/scaled/size'\n",
    "params = ['s1', 's2', 's3', 's4', 's5']\n",
    "# names = os.listdir(os.path.join(old_path, params[1]))\n",
    "# print(len(names))"
   ],
   "outputs": [],
   "metadata": {}
  },
  {
   "cell_type": "code",
   "execution_count": 2,
   "source": [
    "for param in params:\n",
    "    tmp_path1 = os.path.join(old_path, param)\n",
    "    tmp_path2 = os.path.join(new_path, param)\n",
    "    names = os.listdir(tmp_path1)\n",
    "    for name in names:\n",
    "        filename = os.path.join(tmp_path1, name)\n",
    "        img = cv2.imread(filename)\n",
    "        img = cv2.resize(img, None, fx=0.2, fy=0.2)\n",
    "        cv2.imwrite(os.path.join(tmp_path2, name), img)"
   ],
   "outputs": [],
   "metadata": {}
  },
  {
   "cell_type": "code",
   "execution_count": null,
   "source": [],
   "outputs": [],
   "metadata": {}
  }
 ],
 "metadata": {
  "orig_nbformat": 4,
  "language_info": {
   "name": "python",
   "version": "3.8.8",
   "mimetype": "text/x-python",
   "codemirror_mode": {
    "name": "ipython",
    "version": 3
   },
   "pygments_lexer": "ipython3",
   "nbconvert_exporter": "python",
   "file_extension": ".py"
  },
  "kernelspec": {
   "name": "python3",
   "display_name": "Python 3.8.8 64-bit ('base': conda)"
  },
  "interpreter": {
   "hash": "083ec28a33dea51622d762d162365b1a1260162dbd26a3d451d340df11f0fac6"
  }
 },
 "nbformat": 4,
 "nbformat_minor": 2
}