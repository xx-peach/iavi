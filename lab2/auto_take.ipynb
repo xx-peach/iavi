{
 "cells": [
  {
   "cell_type": "code",
   "execution_count": 1,
   "source": [
    "from pypylon import pylon\n",
    "import platform\n",
    "\n",
    "img = pylon.PylonImage()\n",
    "tlf = pylon.TlFactory.GetInstance()\n",
    "\n",
    "cam = pylon.InstantCamera(tlf.CreateFirstDevice())\n",
    "cam.Open()"
   ],
   "outputs": [],
   "metadata": {}
  },
  {
   "cell_type": "code",
   "execution_count": 1,
   "source": [
    "# ===============================================================================\n",
    "#    This sample illustrates how to grab and process images using the CInstantCamera class.\n",
    "#    The images are grabbed and processed asynchronously, i.e.,\n",
    "#    while the application is processing a buffer, the acquisition of the next buffer is done\n",
    "#    in parallel.\n",
    "#\n",
    "#    The CInstantCamera class uses a pool of buffers to retrieve image data\n",
    "#    from the camera device. Once a buffer is filled and ready,\n",
    "#    the buffer can be retrieved from the camera object for processing. The buffer\n",
    "#    and additional image data are collected in a grab result. The grab result is\n",
    "#    held by a smart pointer after retrieval. The buffer is automatically reused\n",
    "#    when explicitly released or when the smart pointer object is destroyed.\n",
    "# ===============================================================================\n",
    "from pypylon import pylon\n",
    "\n",
    "img = pylon.PylonImage()\n",
    "# Number of images to be grabbed.\n",
    "countOfImagesToGrab = 10\n",
    "# Create an instant camera object with the camera device found first.\n",
    "camera = pylon.InstantCamera(pylon.TlFactory.GetInstance().CreateFirstDevice())\n",
    "camera.Open()\n",
    "\n",
    "camera.Gain = 5\n",
    "camera.ExposureTime = 90000\n",
    "\n",
    "# Print the model name of the camera.\n",
    "print(\"Using device \", camera.GetDeviceInfo().GetModelName())\n",
    "\n",
    "# demonstrate some feature access\n",
    "new_width = camera.Width.GetValue() - camera.Width.GetInc()\n",
    "if new_width >= camera.Width.GetMin():\n",
    "    camera.Width.SetValue(new_width)\n",
    "\n",
    "# The parameter MaxNumBuffer can be used to control the count of buffers\n",
    "# allocated for grabbing. The default value of this parameter is 10.\n",
    "camera.MaxNumBuffer = 10\n",
    "\n",
    "# Start the grabbing of c_countOfImagesToGrab images.\n",
    "# The camera device is parameterized with a default configuration which\n",
    "# sets up free-running continuous acquisition.\n",
    "camera.StartGrabbingMax(countOfImagesToGrab)\n",
    "\n",
    "i = 0\n",
    "# Camera.StopGrabbing() is called automatically by the RetrieveResult() method\n",
    "# when c_countOfImagesToGrab images have been retrieved.\n",
    "\n",
    "while camera.IsGrabbing():\n",
    "    # Wait for an image and then retrieve it. A timeout of 5000 ms is used.\n",
    "    grabResult = camera.RetrieveResult(10000000, pylon.TimeoutHandling_ThrowException)\n",
    "\n",
    "    img.AttachGrabResultBuffer(grabResult)\n",
    "    filename = \"saved_pypylon_G5_E9_img_%d.png\" % i\n",
    "    img.Save(pylon.ImageFileFormat_Png, filename)\n",
    "    \n",
    "    i += 1\n",
    "\n",
    "    # In order to make it possible to reuse the grab result for grabbing\n",
    "    # again, we have to release the image (effectively emptying the\n",
    "    # image object).\n",
    "    img.Release()\n",
    "\n",
    "    # Image grabbed successfully?\n",
    "    if grabResult.GrabSucceeded():\n",
    "        # Access the image data.\n",
    "        print(\"SizeX: \", grabResult.Width)\n",
    "        print(\"SizeY: \", grabResult.Height)\n",
    "        imgShow = grabResult.Array\n",
    "        print(\"Gray value of first pixel: \", imgShow[0, 0])\n",
    "    else:\n",
    "        print(\"Error: \", grabResult.ErrorCode, grabResult.ErrorDescription)\n",
    "    grabResult.Release()\n",
    "\n",
    "camera.Close()"
   ],
   "outputs": [
    {
     "output_type": "error",
     "ename": "RuntimeException",
     "evalue": "No device is available or no device contains the provided device info properties. : RuntimeException thrown (file 'tlfactory.cpp', line 694)",
     "traceback": [
      "\u001b[1;31m---------------------------------------------------------------------------\u001b[0m",
      "\u001b[1;31mRuntimeException\u001b[0m                          Traceback (most recent call last)",
      "\u001b[1;32m~\\AppData\\Local\\Temp/ipykernel_13272/1028112576.py\u001b[0m in \u001b[0;36m<module>\u001b[1;34m\u001b[0m\n\u001b[0;32m     18\u001b[0m \u001b[0mcountOfImagesToGrab\u001b[0m \u001b[1;33m=\u001b[0m \u001b[1;36m10\u001b[0m\u001b[1;33m\u001b[0m\u001b[1;33m\u001b[0m\u001b[0m\n\u001b[0;32m     19\u001b[0m \u001b[1;31m# Create an instant camera object with the camera device found first.\u001b[0m\u001b[1;33m\u001b[0m\u001b[1;33m\u001b[0m\u001b[1;33m\u001b[0m\u001b[0m\n\u001b[1;32m---> 20\u001b[1;33m \u001b[0mcamera\u001b[0m \u001b[1;33m=\u001b[0m \u001b[0mpylon\u001b[0m\u001b[1;33m.\u001b[0m\u001b[0mInstantCamera\u001b[0m\u001b[1;33m(\u001b[0m\u001b[0mpylon\u001b[0m\u001b[1;33m.\u001b[0m\u001b[0mTlFactory\u001b[0m\u001b[1;33m.\u001b[0m\u001b[0mGetInstance\u001b[0m\u001b[1;33m(\u001b[0m\u001b[1;33m)\u001b[0m\u001b[1;33m.\u001b[0m\u001b[0mCreateFirstDevice\u001b[0m\u001b[1;33m(\u001b[0m\u001b[1;33m)\u001b[0m\u001b[1;33m)\u001b[0m\u001b[1;33m\u001b[0m\u001b[1;33m\u001b[0m\u001b[0m\n\u001b[0m\u001b[0;32m     21\u001b[0m \u001b[0mcamera\u001b[0m\u001b[1;33m.\u001b[0m\u001b[0mOpen\u001b[0m\u001b[1;33m(\u001b[0m\u001b[1;33m)\u001b[0m\u001b[1;33m\u001b[0m\u001b[1;33m\u001b[0m\u001b[0m\n\u001b[0;32m     22\u001b[0m \u001b[1;33m\u001b[0m\u001b[0m\n",
      "\u001b[1;32mD:\\Anaconda\\envs\\cv\\lib\\site-packages\\pypylon\\pylon.py\u001b[0m in \u001b[0;36mCreateFirstDevice\u001b[1;34m(self, *args)\u001b[0m\n\u001b[0;32m   1580\u001b[0m \u001b[1;33m\u001b[0m\u001b[0m\n\u001b[0;32m   1581\u001b[0m         \"\"\"\n\u001b[1;32m-> 1582\u001b[1;33m         \u001b[1;32mreturn\u001b[0m \u001b[0m_pylon\u001b[0m\u001b[1;33m.\u001b[0m\u001b[0mTlFactory_CreateFirstDevice\u001b[0m\u001b[1;33m(\u001b[0m\u001b[0mself\u001b[0m\u001b[1;33m,\u001b[0m \u001b[1;33m*\u001b[0m\u001b[0margs\u001b[0m\u001b[1;33m)\u001b[0m\u001b[1;33m\u001b[0m\u001b[1;33m\u001b[0m\u001b[0m\n\u001b[0m\u001b[0;32m   1583\u001b[0m \u001b[1;33m\u001b[0m\u001b[0m\n\u001b[0;32m   1584\u001b[0m     \u001b[1;32mdef\u001b[0m \u001b[0mCreateDevice\u001b[0m\u001b[1;33m(\u001b[0m\u001b[0mself\u001b[0m\u001b[1;33m,\u001b[0m \u001b[1;33m*\u001b[0m\u001b[0margs\u001b[0m\u001b[1;33m)\u001b[0m \u001b[1;33m->\u001b[0m \u001b[1;34m\"Pylon::IPylonDevice *\"\u001b[0m\u001b[1;33m:\u001b[0m\u001b[1;33m\u001b[0m\u001b[1;33m\u001b[0m\u001b[0m\n",
      "\u001b[1;31mRuntimeException\u001b[0m: No device is available or no device contains the provided device info properties. : RuntimeException thrown (file 'tlfactory.cpp', line 694)"
     ]
    }
   ],
   "metadata": {}
  },
  {
   "cell_type": "code",
   "execution_count": 5,
   "source": [
    "camera.Close()"
   ],
   "outputs": [],
   "metadata": {}
  },
  {
   "cell_type": "code",
   "execution_count": null,
   "source": [],
   "outputs": [],
   "metadata": {}
  }
 ],
 "metadata": {
  "orig_nbformat": 4,
  "language_info": {
   "name": "python",
   "version": "3.7.10",
   "mimetype": "text/x-python",
   "codemirror_mode": {
    "name": "ipython",
    "version": 3
   },
   "pygments_lexer": "ipython3",
   "nbconvert_exporter": "python",
   "file_extension": ".py"
  },
  "kernelspec": {
   "name": "python3",
   "display_name": "Python 3.7.10 64-bit ('cv': conda)"
  },
  "interpreter": {
   "hash": "b09f46e2148908d6e9ff48fca3fbbffe50ea3e9cf804a00368496beda75da629"
  }
 },
 "nbformat": 4,
 "nbformat_minor": 2
}