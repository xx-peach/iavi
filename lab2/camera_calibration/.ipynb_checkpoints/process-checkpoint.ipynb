{
 "cells": [
  {
   "cell_type": "code",
   "execution_count": 1,
   "metadata": {},
   "outputs": [],
   "source": [
    "# 导入必要的包，\n",
    "import cv2\n",
    "import numpy as np\n",
    "import xml.etree.cElementTree as ET"
   ]
  },
  {
   "cell_type": "code",
   "execution_count": 2,
   "metadata": {},
   "outputs": [],
   "source": [
    "et = ET.parse('out_camera_data.xml')\n",
    "element = et.getroot()\n",
    "\n",
    "extrinsic_parameters = element.find('extrinsic_parameters')\n",
    "ext = list(extrinsic_parameters.find('data').text.split())\n",
    "ext = list(map(float, ext))\n",
    "ext = np.array(ext).reshape(9, 6)\n",
    "\n",
    "camera_matrix = element.find('camera_matrix')\n",
    "cam = list(camera_matrix.find('data').text.split())\n",
    "cam = list(map(float, cam))\n",
    "cam = np.array(cam).reshape(3, 3)\n",
    "\n",
    "image_points = element.find('image_points')\n",
    "pts = list(image_points.find('data').text.split())\n",
    "pts = list(map(float, pts))\n",
    "pts = np.array(pts).reshape(9, 64, 2)"
   ]
  },
  {
   "cell_type": "code",
   "execution_count": 3,
   "metadata": {},
   "outputs": [],
   "source": [
    "pts = pts[0, :, :]"
   ]
  },
  {
   "cell_type": "code",
   "execution_count": 4,
   "metadata": {},
   "outputs": [
    {
     "name": "stdout",
     "output_type": "stream",
     "text": [
      "[167.955002 249.612503   1.      ]\n"
     ]
    }
   ],
   "source": [
    "pts = np.hstack((pts, np.ones((64, 1))))\n",
    "print(pts[0])"
   ]
  },
  {
   "cell_type": "code",
   "execution_count": 5,
   "metadata": {},
   "outputs": [],
   "source": [
    "position = ext[:, 3:]\n",
    "rotation = ext[:, :3]"
   ]
  },
  {
   "cell_type": "code",
   "execution_count": 6,
   "metadata": {},
   "outputs": [],
   "source": [
    "result = []\n",
    "\n",
    "for i in range(rotation.shape[0]):\n",
    "    rot = cv2.Rodrigues(rotation[i])\n",
    "    R = rot[0]\n",
    "    result.append(np.dot(np.linalg.inv(R), -position[i].T))"
   ]
  },
  {
   "cell_type": "code",
   "execution_count": 7,
   "metadata": {},
   "outputs": [
    {
     "name": "stdout",
     "output_type": "stream",
     "text": [
      "(3,)\n",
      "(3, 3)\n"
     ]
    }
   ],
   "source": [
    "rot = cv2.Rodrigues(rotation[0])\n",
    "R = rot[0]\n",
    "\n",
    "print(position[0].shape)\n",
    "print(R.shape)"
   ]
  },
  {
   "cell_type": "code",
   "execution_count": 8,
   "metadata": {},
   "outputs": [
    {
     "name": "stdout",
     "output_type": "stream",
     "text": [
      "(3, 4)\n"
     ]
    }
   ],
   "source": [
    "mat = np.hstack((R, position[0].reshape((3, 1))))\n",
    "print(mat.shape)"
   ]
  },
  {
   "cell_type": "code",
   "execution_count": 9,
   "metadata": {},
   "outputs": [],
   "source": [
    "tmp1 = np.dot(np.linalg.inv(cam), pts.T)\n",
    "out = np.dot(np.linalg.pinv(mat), tmp1)"
   ]
  },
  {
   "cell_type": "code",
   "execution_count": 10,
   "metadata": {},
   "outputs": [
    {
     "name": "stdout",
     "output_type": "stream",
     "text": [
      "(4, 64)\n"
     ]
    }
   ],
   "source": [
    "print(out.shape)"
   ]
  },
  {
   "cell_type": "code",
   "execution_count": 11,
   "metadata": {},
   "outputs": [
    {
     "name": "stdout",
     "output_type": "stream",
     "text": [
      "[[-2.02553371e-01 -3.13877882e-01  1.72338227e-02  1.00000000e+00]\n",
      " [ 4.68138388e+01  7.05319880e-01 -1.02167375e+01  1.00000000e+00]\n",
      " [ 9.21027689e+01  1.65136064e+00 -2.00779940e+01  1.00000000e+00]\n",
      " [ 1.36124366e+02  2.80982048e+00 -2.96412333e+01  1.00000000e+00]\n",
      " [ 1.78150835e+02  3.53317767e+00 -3.88063928e+01  1.00000000e+00]\n",
      " [ 2.19067185e+02  4.57114049e+00 -4.76986313e+01  1.00000000e+00]\n",
      " [ 2.58618699e+02  5.23782871e+00 -5.63253505e+01  1.00000000e+00]\n",
      " [ 2.97169208e+02  5.92183954e+00 -6.47305785e+01  1.00000000e+00]\n",
      " [ 7.96535427e-01  4.97503267e+01  4.42222849e+00  1.00000000e+00]\n",
      " [ 4.81865236e+01  4.99493349e+01 -5.96957237e+00  1.00000000e+00]\n",
      " [ 9.38651877e+01  5.02203043e+01 -1.59787987e+01  1.00000000e+00]\n",
      " [ 1.37846642e+02  5.01239585e+01 -2.56491272e+01  1.00000000e+00]\n",
      " [ 1.80329239e+02  5.03460937e+01 -3.49607827e+01  1.00000000e+00]\n",
      " [ 2.21466831e+02  5.03167498e+01 -4.40002094e+01  1.00000000e+00]\n",
      " [ 2.61343959e+02  5.04743362e+01 -5.27454825e+01  1.00000000e+00]\n",
      " [ 2.99850497e+02  5.04986487e+01 -6.12019881e+01  1.00000000e+00]\n",
      " [ 1.77977075e+00  1.00731199e+02  8.91537891e+00  1.00000000e+00]\n",
      " [ 4.95270973e+01  9.98466354e+01 -1.65500890e+00  1.00000000e+00]\n",
      " [ 9.54704598e+01  9.92400641e+01 -1.18034407e+01  1.00000000e+00]\n",
      " [ 1.39741876e+02  9.84379733e+01 -2.16026555e+01  1.00000000e+00]\n",
      " [ 1.82286932e+02  9.72961762e+01 -3.10540187e+01  1.00000000e+00]\n",
      " [ 2.23709045e+02  9.66934401e+01 -4.02089109e+01  1.00000000e+00]\n",
      " [ 2.63701075e+02  9.60720337e+01 -4.90513807e+01  1.00000000e+00]\n",
      " [ 3.02738139e+02  9.56039967e+01 -5.76699058e+01  1.00000000e+00]\n",
      " [ 2.94924364e+00  1.52140674e+02  1.34072088e+01  1.00000000e+00]\n",
      " [ 5.06973314e+01  1.50414057e+02  2.75887272e+00  1.00000000e+00]\n",
      " [ 9.70993191e+01  1.48880005e+02 -7.57597757e+00  1.00000000e+00]\n",
      " [ 1.41506085e+02  1.47117785e+02 -1.74936124e+01  1.00000000e+00]\n",
      " [ 1.84431068e+02  1.45220405e+02 -2.70982282e+01  1.00000000e+00]\n",
      " [ 2.26151467e+02  1.43834330e+02 -3.63910026e+01  1.00000000e+00]\n",
      " [ 2.66593131e+02  1.42535361e+02 -4.53948306e+01  1.00000000e+00]\n",
      " [ 3.05554072e+02  1.40876261e+02 -5.41066530e+01  1.00000000e+00]\n",
      " [ 3.52305013e+00  2.04624926e+02  1.81291669e+01  1.00000000e+00]\n",
      " [ 5.20809711e+01  2.01829634e+02  7.20422011e+00  1.00000000e+00]\n",
      " [ 9.86220104e+01  1.99046567e+02 -3.27654806e+00  1.00000000e+00]\n",
      " [ 1.43589215e+02  1.96553126e+02 -1.33848381e+01  1.00000000e+00]\n",
      " [ 1.87038024e+02  1.94027693e+02 -2.31625366e+01  1.00000000e+00]\n",
      " [ 2.28822706e+02  1.91666488e+02 -3.25595057e+01  1.00000000e+00]\n",
      " [ 2.69305931e+02  1.89394212e+02 -4.16623684e+01  1.00000000e+00]\n",
      " [ 3.08591650e+02  1.87211080e+02 -5.04939402e+01  1.00000000e+00]\n",
      " [ 4.41105708e+00  2.57909595e+02  2.28560395e+01  1.00000000e+00]\n",
      " [ 5.33322060e+01  2.54106685e+02  1.17582278e+01  1.00000000e+00]\n",
      " [ 1.00481320e+02  2.50424418e+02  1.06082394e+00  1.00000000e+00]\n",
      " [ 1.45610462e+02  2.46957096e+02 -9.17299724e+00  1.00000000e+00]\n",
      " [ 1.89182046e+02  2.43601549e+02 -1.90543439e+01  1.00000000e+00]\n",
      " [ 2.31558908e+02  2.40224796e+02 -2.86752043e+01  1.00000000e+00]\n",
      " [ 2.72238799e+02  2.37059864e+02 -3.79037241e+01  1.00000000e+00]\n",
      " [ 3.11615490e+02  2.33870319e+02 -4.68482428e+01  1.00000000e+00]\n",
      " [ 5.55238915e+00  3.12167863e+02  2.76171961e+01  1.00000000e+00]\n",
      " [ 5.49007035e+01  3.07198497e+02  1.63178024e+01  1.00000000e+00]\n",
      " [ 1.02184120e+02  3.02338632e+02  5.48212060e+00  1.00000000e+00]\n",
      " [ 1.47758655e+02  2.97896136e+02 -4.93961776e+00  1.00000000e+00]\n",
      " [ 1.91602383e+02  2.93796200e+02 -1.49495061e+01  1.00000000e+00]\n",
      " [ 2.34211092e+02  2.89564132e+02 -2.47003023e+01  1.00000000e+00]\n",
      " [ 2.75178331e+02  2.85416905e+02 -3.40826795e+01  1.00000000e+00]\n",
      " [ 3.14843102e+02  2.81670088e+02 -4.31419563e+01  1.00000000e+00]\n",
      " [ 6.64496941e+00  3.67535691e+02  3.24915528e+01  1.00000000e+00]\n",
      " [ 5.63034234e+01  3.61401560e+02  2.10164404e+01  1.00000000e+00]\n",
      " [ 1.03958862e+02  3.55571655e+02  1.00094331e+01  1.00000000e+00]\n",
      " [ 1.49922187e+02  3.49961060e+02 -6.05608936e-01  1.00000000e+00]\n",
      " [ 1.94243869e+02  3.44746372e+02 -1.08234603e+01  1.00000000e+00]\n",
      " [ 2.37020033e+02  3.39577191e+02 -2.06976034e+01  1.00000000e+00]\n",
      " [ 2.78466548e+02  3.34886211e+02 -3.02354899e+01  1.00000000e+00]\n",
      " [ 3.18511608e+02  3.30095316e+02 -3.94747474e+01  1.00000000e+00]]\n"
     ]
    }
   ],
   "source": [
    "out = (out / out[3, :]).T\n",
    "print(out)"
   ]
  },
  {
   "cell_type": "code",
   "execution_count": 12,
   "metadata": {},
   "outputs": [],
   "source": [
    "from plyfile import PlyData, PlyElement\n",
    "\n",
    "def write_ply(save_path, points, pts, text=True):\n",
    "    points = [(points[i, 0], points[i, 1], points[i, 2]) for i in range(points.shape[0])]\n",
    "\n",
    "    for i in range(pts.shape[0]):\n",
    "        points.append((pts[i, 0], pts[i, 1], pts[i, 2]))\n",
    "\n",
    "    vertex = np.array(points, dtype=[('x', 'f4'), ('y', 'f4'), ('z', 'f4')])\n",
    "    el = PlyElement.describe(vertex, 'vertex', comments=['vertices'])\n",
    "    PlyData([el], text=text).write(save_path)"
   ]
  },
  {
   "cell_type": "code",
   "execution_count": 13,
   "metadata": {},
   "outputs": [],
   "source": [
    "write_ply('new.ply', np.array(result), out, True)"
   ]
  },
  {
   "cell_type": "code",
   "execution_count": null,
   "metadata": {},
   "outputs": [],
   "source": []
  }
 ],
 "metadata": {
  "interpreter": {
   "hash": "9f4061d060bbd63df3dfa18a7edbcaf880a30ec9930a49ee70870f9eefb5fb5c"
  },
  "kernelspec": {
   "display_name": "Python 3 (ipykernel)",
   "language": "python",
   "name": "python3"
  },
  "language_info": {
   "codemirror_mode": {
    "name": "ipython",
    "version": 3
   },
   "file_extension": ".py",
   "mimetype": "text/x-python",
   "name": "python",
   "nbconvert_exporter": "python",
   "pygments_lexer": "ipython3",
   "version": "3.7.11"
  }
 },
 "nbformat": 4,
 "nbformat_minor": 2
}
