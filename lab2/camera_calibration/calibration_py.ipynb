{
 "cells": [
  {
   "cell_type": "code",
   "execution_count": 3,
   "source": [
    "import cv2\n",
    "import numpy as np\n",
    "import glob\n",
    "\n",
    "# 设置寻找亚像素角点的参数，采用的停止准则是最大循环次数30和最大误差容限0.001\n",
    "criteria = (cv2.TERM_CRITERIA_MAX_ITER | cv2.TERM_CRITERIA_EPS, 30, 0.001)\n",
    "\n",
    "# 获取标定板角点的位置\n",
    "objp = np.zeros((8 * 8, 3), np.float32)             # (x, y, 0)\n",
    "objp[:, :2] = np.mgrid[0:8, 0:8].T.reshape(-1, 2)   # 将世界坐标系建在标定板上，所有点的Z坐标全部为0，所以只需要赋值x和y\n",
    "\n",
    "obj_points = []  # 存储3D点\n",
    "img_points = []  # 存储2D点\n",
    "\n",
    "# 获取对应文件夹下的所有图片，进行标定工作\n",
    "images = glob.glob(\"images/scaled/circle/*.jpg\")\n",
    "# 需要对图片进行排序，不然之后的绘制过程可能会因为乱序而没有效果\n",
    "images.sort()\n",
    "\n",
    "# 遍历所有图片，寻找角点，并记录，等待后续标定使用\n",
    "i=0\n",
    "for fname in images:\n",
    "    img = cv2.imread(fname)\n",
    "    gray = cv2.cvtColor(img, cv2.COLOR_BGR2GRAY)\n",
    "    size = gray.shape[::-1]\n",
    "    ret, corners = cv2.findChessboardCorners(gray, (8, 8), None)\n",
    "    \n",
    "    if ret:\n",
    "        obj_points.append(objp)\n",
    "        corners2 = cv2.cornerSubPix(gray, corners, (5, 5), (-1, -1), criteria)  # 在原角点的基础上寻找亚像素角点\n",
    "        if [corners2]:\n",
    "            img_points.append(corners2)\n",
    "        else:\n",
    "            img_points.append(corners)\n",
    "\n",
    "        cv2.drawChessboardCorners(img, (8, 8), corners, ret)  # 记住，OpenCV的绘制函数一般无返回值\n",
    "        i+=1\n",
    "        cv2.imwrite('conimg'+str(i)+'.jpg', img)\n",
    "        cv2.waitKey(1500)\n",
    "\n",
    "# 显示可用图片的数量\n",
    "print(len(img_points))\n",
    "cv2.destroyAllWindows()\n",
    "\n",
    "# 标定步骤\n",
    "ret, mtx, dist, rvecs, tvecs = cv2.calibrateCamera(obj_points, img_points, size, None, None)\n",
    "\n",
    "print(\"ret:\", ret)\n",
    "print(\"mtx:\\n\", mtx)        # 内参数矩阵\n",
    "print(\"dist:\\n\", dist)      # 畸变系数 distortion cofficients = (k_1, k_2, p_1, p_2, k_3)\n",
    "print(\"rvecs:\\n\", rvecs)    # 旋转向量, 外参数\n",
    "print(\"tvecs:\\n\", tvecs )   # 平移向量, 外参数\n",
    "\n",
    "print(\"-----------------------------------------------------\")\n",
    "img = cv2.imread(images[2])\n",
    "h, w = img.shape[:2]\n",
    "newcameramtx, roi = cv2.getOptimalNewCameraMatrix(mtx, dist, (w, h), 1, (w, h)) # 显示更大范围的图片（正常重映射之后会删掉一部分图像）\n",
    "print(newcameramtx)\n",
    "\n",
    "# 消除畸变，并显示效果\n",
    "print(\"------------------使用undistort函数-------------------\")\n",
    "dst = cv2.undistort(img, mtx, dist, None, newcameramtx)\n",
    "x,y,w,h = roi\n",
    "dst1 = dst[y:y+h, x:x+w]\n",
    "cv2.imwrite('calibresult3.jpg', dst1)\n",
    "print (\"方法一:dst的大小为:\", dst1.shape)"
   ],
   "outputs": [
    {
     "output_type": "execute_result",
     "data": {
      "text/plain": [
       "True"
      ]
     },
     "metadata": {},
     "execution_count": 3
    }
   ],
   "metadata": {}
  },
  {
   "cell_type": "markdown",
   "source": [
    "## change the world coordinate to camera coordinate\n",
    "$$\n",
    "\\begin{bmatrix}\n",
    "x\\\\y\\\\z\n",
    "\\end{bmatrix}_{camera}=R\n",
    "\\begin{bmatrix}\n",
    "X\\\\Y\\\\Z\n",
    "\\end{bmatrix}_{world}+t\n",
    "$$"
   ],
   "metadata": {}
  },
  {
   "cell_type": "code",
   "execution_count": 6,
   "source": [
    "# 重建得到相机的位置\n",
    "result = []\n",
    "\n",
    "for i in range(len(rvecs)):\n",
    "    rot = cv2.Rodrigues(rvecs[i])\n",
    "    R = rot[0]\n",
    "    # 参见公式\n",
    "    result.append(np.dot(np.linalg.inv(R), -tvecs[i]))"
   ],
   "outputs": [],
   "metadata": {}
  },
  {
   "cell_type": "code",
   "execution_count": 7,
   "source": [
    "# 创建ply文件, 需要安装，pip install plyfile\n",
    "from plyfile import PlyData, PlyElement\n",
    "\n",
    "def write_ply(save_path, points, pts, text=True):\n",
    "    # points[9, :]: the camera position in world coordinate\n",
    "    points = [(points[i, 0], points[i, 1], points[i, 2]) for i in range(points.shape[0])]\n",
    "    # objp[64, :]: the regular chessboard position in world coordinate\n",
    "    for i in range(pts.shape[0]):\n",
    "        points.append((pts[i, 0], pts[i, 1], pts[i, 2]))\n",
    "    # change the points list into np.array\n",
    "    vertex = np.array(points, dtype=[('x', 'f4'), ('y', 'f4'), ('z', 'f4')])\n",
    "    el = PlyElement.describe(vertex, 'vertex', comments=['vertices'])\n",
    "    PlyData([el], text=text).write(save_path)\n",
    "\n",
    "write_ply('new.ply', np.array(result), objp, True)"
   ],
   "outputs": [],
   "metadata": {}
  },
  {
   "cell_type": "code",
   "execution_count": 8,
   "source": [
    "# 给定图片上的若干点，我们将其连接起来形成立方体的样子\n",
    "def draw_lines(img, points):\n",
    "    pairs = []\n",
    "    pairs += [(i, i+4) for i in range(4)]           # vertical lines\n",
    "    pairs += [(i, (i+1)%4) for i in range(4)]       # bottom line\n",
    "    pairs += [(i+4, (i+1)%4 + 4) for i in range(4)] # top line\n",
    "    for tup in pairs:\n",
    "        pt1 = (int(points[tup[0], 0]), int(points[tup[0], 1]))\n",
    "        pt2 = (int(points[tup[1], 0]), int(points[tup[1], 1]))\n",
    "        cv2.line(img, pt1, pt2, (0, 0, 255), 4, 3)"
   ],
   "outputs": [],
   "metadata": {}
  },
  {
   "cell_type": "markdown",
   "source": [
    "## change the world coordinate to image coordinate\n",
    "$$\n",
    "sm' = A[R|t]M'\\\\\n",
    "\n",
    "s\\begin{bmatrix}\n",
    "u\\\\v\\\\1\n",
    "\\end{bmatrix}=\n",
    "\\begin{bmatrix}\n",
    "f_x &0   &c_x\\\\\n",
    "0   &f_y &c_y\\\\\n",
    "0   &0   &1\n",
    "\\end{bmatrix}\n",
    "\\begin{bmatrix}\n",
    "r_{11} &r_{12} &r_{13} &t_1\\\\\n",
    "r_{21} &r_{22} &r_{23} &t_2\\\\\n",
    "r_{31} &r_{32} &r_{33} &t_3\n",
    "\\end{bmatrix}\n",
    "\\begin{bmatrix}\n",
    "X\\\\Y\\\\Z\\\\1\n",
    "\\end{bmatrix}\n",
    "$$\n",
    "+ $(X,Y,Z)$ are the coordinates of a 3D point in the world coordinate\n",
    "+ $(u,v)$ are the coordiantes of the projection point in pixels\n",
    "+ $A$ is a camera matrix, or a matrix of intrinsic parameters\n",
    "+ $(c_x, c_y)$ is a principal point that is usually at the image center\n",
    "+ $f_x,f_y$ are the focal lengths expressed in pixel units"
   ],
   "metadata": {}
  },
  {
   "cell_type": "code",
   "execution_count": 9,
   "source": [
    "# 图片数量\n",
    "num_of_pic = 9\n",
    "\n",
    "# origin中储存了立方体八个顶点在世界坐标系下的坐标\n",
    "origin = [[2, 2, 0], [2, 3, 0], [3, 3, 0], [3, 2, 0], [2, 2, -1], [2, 3, -1], [3, 3, -1], [3, 2, -1]]\n",
    "origin = np.array(origin)\n",
    "origin = np.hstack((origin, np.ones(8).reshape(8, 1)))\n",
    "\n",
    "# 分别对每张图片进行重建\n",
    "for i in range(num_of_pic):\n",
    "    # 重建第一组点\n",
    "    rot = cv2.Rodrigues(rvecs[i])\n",
    "    R = rot[0]\n",
    "    # hstack to get [R T]，3 x 4\n",
    "    mat = np.hstack((R, tvecs[i].reshape((3, 1))))\n",
    "    # 利用公式算出世界坐标系下对应点在图像坐标系下的坐标\n",
    "    tmp1 = np.dot(mat, origin.T)\n",
    "    out = np.dot(mtx, tmp1)\n",
    "    out = out / out[2, :]\n",
    "    # open the object image\n",
    "    filename = './images/scaled/circle/' + str(i+1) + '.jpg'\n",
    "    img = cv2.imread(filename)\n",
    "    # draw cubic onto the object image\n",
    "    draw_lines(img, out.T)\n",
    "    # save the adjusted image\n",
    "    cv2.imwrite(str(i+1)+'.png', img)"
   ],
   "outputs": [],
   "metadata": {}
  },
  {
   "cell_type": "code",
   "execution_count": null,
   "source": [],
   "outputs": [],
   "metadata": {}
  }
 ],
 "metadata": {
  "orig_nbformat": 4,
  "language_info": {
   "name": "python",
   "version": "3.8.8",
   "mimetype": "text/x-python",
   "codemirror_mode": {
    "name": "ipython",
    "version": 3
   },
   "pygments_lexer": "ipython3",
   "nbconvert_exporter": "python",
   "file_extension": ".py"
  },
  "kernelspec": {
   "name": "python3",
   "display_name": "Python 3.8.8 64-bit ('base': conda)"
  },
  "interpreter": {
   "hash": "083ec28a33dea51622d762d162365b1a1260162dbd26a3d451d340df11f0fac6"
  }
 },
 "nbformat": 4,
 "nbformat_minor": 2
}