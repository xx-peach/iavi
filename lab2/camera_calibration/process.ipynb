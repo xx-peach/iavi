{
 "cells": [
  {
   "cell_type": "code",
   "execution_count": 1,
   "source": [
    "# 导入必要的包\n",
    "import cv2\n",
    "import numpy as np\n",
    "import xml.etree.cElementTree as ET"
   ],
   "outputs": [],
   "metadata": {}
  },
  {
   "cell_type": "code",
   "execution_count": 2,
   "source": [
    "# 用于训练的数量\n",
    "num_of_pic = 9"
   ],
   "outputs": [],
   "metadata": {}
  },
  {
   "cell_type": "code",
   "execution_count": 3,
   "source": [
    "# 读取xml文件并解析\n",
    "et = ET.parse('out_camera_data.xml')\n",
    "# 得到根节点\n",
    "element = et.getroot()\n",
    "\n",
    "# 找到外参数，并储存在extrinsic_parameters中\n",
    "extrinsic_parameters = element.find('extrinsic_parameters')\n",
    "# 取出其中的data，转变成为list类型，并变成对应的形状\n",
    "ext = list(extrinsic_parameters.find('data').text.split())\n",
    "ext = list(map(float, ext))\n",
    "ext = np.array(ext).reshape(num_of_pic, 6)\n",
    "\n",
    "# 找到相机矩阵，并储存在camera_matrix中\n",
    "camera_matrix = element.find('camera_matrix')\n",
    "cam = list(camera_matrix.find('data').text.split())\n",
    "cam = list(map(float, cam))\n",
    "cam = np.array(cam).reshape(3, 3)\n",
    "\n",
    "# 找到最后的点位置，并储存在image_points中\n",
    "image_points = element.find('image_points')\n",
    "pts = list(image_points.find('data').text.split())\n",
    "pts = list(map(float, pts))\n",
    "pts = np.array(pts).reshape(num_of_pic, 64, 2)\n",
    "\n",
    "grid_points = element.find('grid_points')\n",
    "pts_world = list(grid_points.text.split())\n",
    "pts_world = list(map(float, pts_world))\n",
    "pts_world = np.array(pts_world).reshape(64, 3)"
   ],
   "outputs": [],
   "metadata": {}
  },
  {
   "cell_type": "code",
   "execution_count": 4,
   "source": [
    "# 选择其中一组点（总共64个）进行恢复\n",
    "pts = pts[0, :, :]\n",
    "pts = np.hstack((pts, np.ones((64, 1))))\n",
    "print(pts[0])"
   ],
   "outputs": [
    {
     "output_type": "stream",
     "name": "stdout",
     "text": [
      "[167.955002 249.612503   1.      ]\n"
     ]
    }
   ],
   "metadata": {}
  },
  {
   "cell_type": "code",
   "execution_count": 5,
   "source": [
    "# position中有的是平移向量\n",
    "position = ext[:, 3:]\n",
    "# rotation中有的是旋转向量\n",
    "rotation = ext[:, :3]"
   ],
   "outputs": [],
   "metadata": {}
  },
  {
   "cell_type": "code",
   "execution_count": 6,
   "source": [
    "# 这一步尝试绘制一张图像，验证一下给出点的坐标是以图片左上角为原点的坐标\n",
    "filename = './images/1.jpg'\n",
    "img = cv2.imread(filename)\n",
    "\n",
    "point_size = 1\n",
    "point_color = (0, 0, 255)\n",
    "thickness = 4\n",
    "\n",
    "for pt in pts:\n",
    "    cv2.circle(img, (int(pt[0]), int(pt[1])), point_size, point_color, thickness)\n",
    "\n",
    "cv2.imwrite('1.png', img)"
   ],
   "outputs": [
    {
     "output_type": "execute_result",
     "data": {
      "text/plain": [
       "True"
      ]
     },
     "metadata": {},
     "execution_count": 6
    }
   ],
   "metadata": {}
  },
  {
   "cell_type": "code",
   "execution_count": 7,
   "source": [
    "# 重建得到相机的位置\n",
    "result = []\n",
    "\n",
    "for i in range(rotation.shape[0]):\n",
    "    rot = cv2.Rodrigues(rotation[i])\n",
    "    R = rot[0]\n",
    "    # 参见公式\n",
    "    result.append(np.dot(np.linalg.inv(R), -position[i].T))"
   ],
   "outputs": [],
   "metadata": {}
  },
  {
   "cell_type": "code",
   "execution_count": 8,
   "source": [
    "# 重建第一组点\n",
    "rot = cv2.Rodrigues(rotation[0])\n",
    "R = rot[0]\n",
    "# [R T]，3 x 4\n",
    "mat = np.hstack((R, position[0].reshape((3, 1))))\n",
    "print(mat.shape)"
   ],
   "outputs": [
    {
     "output_type": "stream",
     "name": "stdout",
     "text": [
      "(3, 4)\n"
     ]
    }
   ],
   "metadata": {}
  },
  {
   "cell_type": "code",
   "execution_count": 9,
   "source": [
    "# 计算得到64个点重建的三维坐标\n",
    "tmp1 = np.dot(np.linalg.inv(cam), pts.T)\n",
    "out = np.dot(np.linalg.pinv(mat), tmp1)"
   ],
   "outputs": [],
   "metadata": {}
  },
  {
   "cell_type": "code",
   "execution_count": 11,
   "source": [
    "# 齐次坐标，最后一位应该为1，因此除以做齐次化\n",
    "out = (out / out[3, :]).T"
   ],
   "outputs": [],
   "metadata": {}
  },
  {
   "cell_type": "code",
   "execution_count": 12,
   "source": [
    "# 需要安装，pip install plyfile\n",
    "# 创建ply文件\n",
    "from plyfile import PlyData, PlyElement\n",
    "\n",
    "def write_ply(save_path, points, pts, text=True):\n",
    "    points = [(points[i, 0], points[i, 1], points[i, 2]) for i in range(points.shape[0])]\n",
    "\n",
    "    for i in range(pts.shape[0]):\n",
    "        points.append((pts[i, 0], pts[i, 1], pts[i, 2]))\n",
    "\n",
    "    vertex = np.array(points, dtype=[('x', 'f4'), ('y', 'f4'), ('z', 'f4')])\n",
    "    el = PlyElement.describe(vertex, 'vertex', comments=['vertices'])\n",
    "    PlyData([el], text=text).write(save_path)\n",
    "\n",
    "write_ply('new.ply', np.array(result), pts_world, True)"
   ],
   "outputs": [],
   "metadata": {}
  },
  {
   "cell_type": "code",
   "execution_count": 14,
   "source": [
    "origin = [[100, 100,  0], [100, 150,  0], [150, 150,  0], [150, 100,  0],\\\n",
    "    [100, 100, -50], [100, 150, -50], [150, 150, -50], [150, 100, -50]]\n",
    "\n",
    "origin = np.array(origin)\n",
    "origin = np.hstack((origin, np.ones(8).reshape(8, 1)))"
   ],
   "outputs": [],
   "metadata": {}
  },
  {
   "cell_type": "code",
   "execution_count": null,
   "source": [
    "import open3d as o3d\n",
    "import numpy as np\n",
    "\n",
    "model_path = 'cat_mod_1.ply'\n",
    "model = o3d.io.read_point_cloud(model_path)\n",
    "pts = o3d.np.asarray(model.points)\n",
    "\n",
    "pts = origin + np.array([200, 200, 50])"
   ],
   "outputs": [],
   "metadata": {}
  },
  {
   "cell_type": "code",
   "execution_count": 16,
   "source": [
    "tmp1 = np.dot(mat, origin.T)\n",
    "out = np.dot(cam, tmp1)\n",
    "out = out / out[2, :]"
   ],
   "outputs": [],
   "metadata": {}
  },
  {
   "cell_type": "code",
   "execution_count": 20,
   "source": [
    "# 这一步尝试绘制一张图像，验证一下给出点的坐标是以图片左上角为原点的坐标\n",
    "filename = './images/1.jpg'\n",
    "img = cv2.imread(filename)\n",
    "\n",
    "def draw_lines(img, points):\n",
    "    pairs = []\n",
    "    pairs += [(i, i+4) for i in range(4)]\n",
    "    pairs += [(i, (i+1)%4) for i in range(4)]\n",
    "    pairs += [(i+4, (i+1)%4 + 4) for i in range(4)]\n",
    "    for tup in pairs:\n",
    "        pt1 = (int(points[tup[0], 0]), int(points[tup[0], 1]))\n",
    "        pt2 = (int(points[tup[1], 0]), int(points[tup[1], 1]))\n",
    "        cv2.line(img, pt1, pt2, (0, 0, 255), 4, 3)\n",
    "\n",
    "    cv2.imwrite('1.png', img)\n",
    "\n",
    "print(out.shape)\n",
    "draw_lines(img, out.T)"
   ],
   "outputs": [
    {
     "output_type": "stream",
     "name": "stdout",
     "text": [
      "(3, 8)\n"
     ]
    }
   ],
   "metadata": {}
  },
  {
   "cell_type": "code",
   "execution_count": 21,
   "source": [
    "filename = './images/1.jpg'\n",
    "img = cv2.imread(filename)\n",
    "\n",
    "point_size = 1\n",
    "point_color = (0, 0, 255)\n",
    "thickness = 4\n",
    "\n",
    "for pt in out.T:\n",
    "    cv2.circle(img, (int(pt[0]), int(pt[1])), point_size, point_color, thickness)\n",
    "\n",
    "cv2.imwrite('1.png', img)"
   ],
   "outputs": [
    {
     "output_type": "execute_result",
     "data": {
      "text/plain": [
       "True"
      ]
     },
     "metadata": {},
     "execution_count": 21
    }
   ],
   "metadata": {}
  },
  {
   "cell_type": "code",
   "execution_count": 22,
   "source": [
    "for i in range(num_of_pic):\n",
    "    # 重建第一组点\n",
    "    rot = cv2.Rodrigues(rotation[i])\n",
    "    R = rot[0]\n",
    "    # [R T]，3 x 4\n",
    "    mat = np.hstack((R, position[i].reshape((3, 1))))\n",
    "    # print(mat.shape)\n",
    "    tmp1 = np.dot(mat, origin.T)\n",
    "    out = np.dot(cam, tmp1)\n",
    "    out = out / out[2, :]\n",
    "\n",
    "    filename = './images/' + str(i+1) + '.jpg'\n",
    "    img = cv2.imread(filename)\n",
    "    draw_lines(img, out.T)\n",
    "\n",
    "    cv2.imwrite(str(i+1)+'.png', img)"
   ],
   "outputs": [],
   "metadata": {}
  }
 ],
 "metadata": {
  "interpreter": {
   "hash": "40a5ed5a0e8a82d9f717d1d726f8aadf269eda72e1afc8b608d12bc7579c9dc4"
  },
  "kernelspec": {
   "name": "python3",
   "display_name": "Python 3.7.11 64-bit ('cv_envs': conda)"
  },
  "language_info": {
   "codemirror_mode": {
    "name": "ipython",
    "version": 3
   },
   "file_extension": ".py",
   "mimetype": "text/x-python",
   "name": "python",
   "nbconvert_exporter": "python",
   "pygments_lexer": "ipython3",
   "version": "3.7.11"
  }
 },
 "nbformat": 4,
 "nbformat_minor": 2
}