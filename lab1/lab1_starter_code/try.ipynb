{
 "cells": [
  {
   "cell_type": "code",
   "execution_count": 1,
   "source": [
    "from pypylon import pylon\r\n",
    "import platform\r\n",
    "\r\n",
    "img = pylon.PylonImage()\r\n",
    "tlf = pylon.TlFactory.GetInstance()\r\n",
    "\r\n",
    "cam = pylon.InstantCamera(tlf.CreateFirstDevice())\r\n",
    "cam.Open()"
   ],
   "outputs": [],
   "metadata": {}
  },
  {
   "cell_type": "code",
   "execution_count": 2,
   "source": [
    "num_img_to_save = 20\r\n",
    "cam.Gain = 20\r\n",
    "cam.ExposureTime = 20000\r\n",
    "cam.StartGrabbing()\r\n",
    "\r\n",
    "for i in range(num_img_to_save):\r\n",
    "    with cam.RetrieveResult(2000) as result:\r\n",
    "\r\n",
    "        # Calling AttachGrabResultBuffer creates another reference to the\r\n",
    "        # grab result buffer. This prevents the buffer's reuse for grabbing.\r\n",
    "        img.AttachGrabResultBuffer(result)\r\n",
    "\r\n",
    "        # if platform.system() == 'Windows':\r\n",
    "        #     # The JPEG format that is used here supports adjusting the image\r\n",
    "        #     # quality (100 -> best quality, 0 -> poor quality).\r\n",
    "        #     ipo = pylon.ImagePersistenceOptions()\r\n",
    "        #     quality = 90 - i * 10\r\n",
    "        #     ipo.SetQuality(quality)\r\n",
    "\r\n",
    "        #     filename = \"saved_pypylon_img_%d.jpeg\" % quality\r\n",
    "        #     img.Save(pylon.ImageFileFormat_Jpeg, filename, ipo)\r\n",
    "        # else:\r\n",
    "        filename = \"saved_pypylon_img_%d.png\" % i\r\n",
    "        img.Save(pylon.ImageFileFormat_Png, filename)\r\n",
    "\r\n",
    "        # In order to make it possible to reuse the grab result for grabbing\r\n",
    "        # again, we have to release the image (effectively emptying the\r\n",
    "        # image object).\r\n",
    "        img.Release()\r\n",
    "\r\n",
    "cam.StopGrabbing()\r\n",
    "cam.Close()"
   ],
   "outputs": [
    {
     "output_type": "error",
     "ename": "InvalidArgumentException",
     "evalue": "Cannot save image. The passed image is invalid. : InvalidArgumentException thrown (file 'imagepersistance.cpp', line 258)",
     "traceback": [
      "\u001b[1;31m---------------------------------------------------------------------------\u001b[0m",
      "\u001b[1;31mInvalidArgumentException\u001b[0m                  Traceback (most recent call last)",
      "\u001b[1;32m~\\AppData\\Local\\Temp/ipykernel_9204/2095815497.py\u001b[0m in \u001b[0;36m<module>\u001b[1;34m\u001b[0m\n\u001b[0;32m     22\u001b[0m         \u001b[1;31m# else:\u001b[0m\u001b[1;33m\u001b[0m\u001b[1;33m\u001b[0m\u001b[1;33m\u001b[0m\u001b[0m\n\u001b[0;32m     23\u001b[0m         \u001b[0mfilename\u001b[0m \u001b[1;33m=\u001b[0m \u001b[1;34m\"saved_pypylon_img_%d.png\"\u001b[0m \u001b[1;33m%\u001b[0m \u001b[0mi\u001b[0m\u001b[1;33m\u001b[0m\u001b[1;33m\u001b[0m\u001b[0m\n\u001b[1;32m---> 24\u001b[1;33m         \u001b[0mimg\u001b[0m\u001b[1;33m.\u001b[0m\u001b[0mSave\u001b[0m\u001b[1;33m(\u001b[0m\u001b[0mpylon\u001b[0m\u001b[1;33m.\u001b[0m\u001b[0mImageFileFormat_Png\u001b[0m\u001b[1;33m,\u001b[0m \u001b[0mfilename\u001b[0m\u001b[1;33m)\u001b[0m\u001b[1;33m\u001b[0m\u001b[1;33m\u001b[0m\u001b[0m\n\u001b[0m\u001b[0;32m     25\u001b[0m \u001b[1;33m\u001b[0m\u001b[0m\n\u001b[0;32m     26\u001b[0m         \u001b[1;31m# In order to make it possible to reuse the grab result for grabbing\u001b[0m\u001b[1;33m\u001b[0m\u001b[1;33m\u001b[0m\u001b[1;33m\u001b[0m\u001b[0m\n",
      "\u001b[1;32mD:\\Anaconda\\envs\\cv\\lib\\site-packages\\pypylon\\pylon.py\u001b[0m in \u001b[0;36mSave\u001b[1;34m(self, imageFileFormat, filename, pOptions)\u001b[0m\n\u001b[0;32m   5688\u001b[0m \u001b[1;33m\u001b[0m\u001b[0m\n\u001b[0;32m   5689\u001b[0m         \"\"\"\n\u001b[1;32m-> 5690\u001b[1;33m         \u001b[1;32mreturn\u001b[0m \u001b[0m_pylon\u001b[0m\u001b[1;33m.\u001b[0m\u001b[0mPylonImageBase_Save\u001b[0m\u001b[1;33m(\u001b[0m\u001b[0mself\u001b[0m\u001b[1;33m,\u001b[0m \u001b[0mimageFileFormat\u001b[0m\u001b[1;33m,\u001b[0m \u001b[0mfilename\u001b[0m\u001b[1;33m,\u001b[0m \u001b[0mpOptions\u001b[0m\u001b[1;33m)\u001b[0m\u001b[1;33m\u001b[0m\u001b[1;33m\u001b[0m\u001b[0m\n\u001b[0m\u001b[0;32m   5691\u001b[0m \u001b[1;33m\u001b[0m\u001b[0m\n\u001b[0;32m   5692\u001b[0m     \u001b[1;32mdef\u001b[0m \u001b[0mLoad\u001b[0m\u001b[1;33m(\u001b[0m\u001b[0mself\u001b[0m\u001b[1;33m,\u001b[0m \u001b[0mfilename\u001b[0m\u001b[1;33m:\u001b[0m \u001b[1;34m\"Pylon::String_t const &\"\u001b[0m\u001b[1;33m)\u001b[0m \u001b[1;33m->\u001b[0m \u001b[1;34m\"void\"\u001b[0m\u001b[1;33m:\u001b[0m\u001b[1;33m\u001b[0m\u001b[1;33m\u001b[0m\u001b[0m\n",
      "\u001b[1;31mInvalidArgumentException\u001b[0m: Cannot save image. The passed image is invalid. : InvalidArgumentException thrown (file 'imagepersistance.cpp', line 258)"
     ]
    }
   ],
   "metadata": {}
  },
  {
   "cell_type": "code",
   "execution_count": 1,
   "source": [
    "# ===============================================================================\r\n",
    "#    This sample illustrates how to grab and process images using the CInstantCamera class.\r\n",
    "#    The images are grabbed and processed asynchronously, i.e.,\r\n",
    "#    while the application is processing a buffer, the acquisition of the next buffer is done\r\n",
    "#    in parallel.\r\n",
    "#\r\n",
    "#    The CInstantCamera class uses a pool of buffers to retrieve image data\r\n",
    "#    from the camera device. Once a buffer is filled and ready,\r\n",
    "#    the buffer can be retrieved from the camera object for processing. The buffer\r\n",
    "#    and additional image data are collected in a grab result. The grab result is\r\n",
    "#    held by a smart pointer after retrieval. The buffer is automatically reused\r\n",
    "#    when explicitly released or when the smart pointer object is destroyed.\r\n",
    "# ===============================================================================\r\n",
    "from pypylon import pylon\r\n",
    "\r\n",
    "img = pylon.PylonImage()\r\n",
    "# Number of images to be grabbed.\r\n",
    "countOfImagesToGrab = 10\r\n",
    "# Create an instant camera object with the camera device found first.\r\n",
    "camera = pylon.InstantCamera(pylon.TlFactory.GetInstance().CreateFirstDevice())\r\n",
    "camera.Open()\r\n",
    "\r\n",
    "camera.GainAuto.TrySetValue( pylon.AutoGainOff )\r\n",
    "camera.Gain.SetValue( camera.Gain.GetMin() )\r\n",
    "camera.Gain = 5\r\n",
    "camera.ExposureTime = 90000\r\n",
    "\r\n",
    "# Print the model name of the camera.\r\n",
    "print(\"Using device \", camera.GetDeviceInfo().GetModelName())\r\n",
    "\r\n",
    "# demonstrate some feature access\r\n",
    "new_width = camera.Width.GetValue() - camera.Width.GetInc()\r\n",
    "if new_width >= camera.Width.GetMin():\r\n",
    "    camera.Width.SetValue(new_width)\r\n",
    "\r\n",
    "# The parameter MaxNumBuffer can be used to control the count of buffers\r\n",
    "# allocated for grabbing. The default value of this parameter is 10.\r\n",
    "camera.MaxNumBuffer = 10\r\n",
    "\r\n",
    "# Start the grabbing of c_countOfImagesToGrab images.\r\n",
    "# The camera device is parameterized with a default configuration which\r\n",
    "# sets up free-running continuous acquisition.\r\n",
    "camera.StartGrabbingMax(countOfImagesToGrab)\r\n",
    "\r\n",
    "i = 0\r\n",
    "# Camera.StopGrabbing() is called automatically by the RetrieveResult() method\r\n",
    "# when c_countOfImagesToGrab images have been retrieved.\r\n",
    "\r\n",
    "while camera.IsGrabbing():\r\n",
    "    # Wait for an image and then retrieve it. A timeout of 5000 ms is used.\r\n",
    "    grabResult = camera.RetrieveResult(10000000, pylon.TimeoutHandling_ThrowException)\r\n",
    "\r\n",
    "    img.AttachGrabResultBuffer(grabResult)\r\n",
    "    filename = \"saved_pypylon_G5_E9_img_%d.png\" % i\r\n",
    "    img.Save(pylon.ImageFileFormat_Png, filename)\r\n",
    "    \r\n",
    "    i += 1\r\n",
    "\r\n",
    "    # In order to make it possible to reuse the grab result for grabbing\r\n",
    "    # again, we have to release the image (effectively emptying the\r\n",
    "    # image object).\r\n",
    "    img.Release()\r\n",
    "\r\n",
    "    # Image grabbed successfully?\r\n",
    "    if grabResult.GrabSucceeded():\r\n",
    "        # Access the image data.\r\n",
    "        print(\"SizeX: \", grabResult.Width)\r\n",
    "        print(\"SizeY: \", grabResult.Height)\r\n",
    "        imgShow = grabResult.Array\r\n",
    "        print(\"Gray value of first pixel: \", imgShow[0, 0])\r\n",
    "    else:\r\n",
    "        print(\"Error: \", grabResult.ErrorCode, grabResult.ErrorDescription)\r\n",
    "    grabResult.Release()\r\n",
    "\r\n",
    "camera.Close()"
   ],
   "outputs": [
    {
     "output_type": "error",
     "ename": "RuntimeException",
     "evalue": "No device is available or no device contains the provided device info properties. : RuntimeException thrown (file 'tlfactory.cpp', line 694)",
     "traceback": [
      "\u001b[1;31m---------------------------------------------------------------------------\u001b[0m",
      "\u001b[1;31mRuntimeException\u001b[0m                          Traceback (most recent call last)",
      "\u001b[1;32m~\\AppData\\Local\\Temp/ipykernel_13272/1028112576.py\u001b[0m in \u001b[0;36m<module>\u001b[1;34m\u001b[0m\n\u001b[0;32m     18\u001b[0m \u001b[0mcountOfImagesToGrab\u001b[0m \u001b[1;33m=\u001b[0m \u001b[1;36m10\u001b[0m\u001b[1;33m\u001b[0m\u001b[1;33m\u001b[0m\u001b[0m\n\u001b[0;32m     19\u001b[0m \u001b[1;31m# Create an instant camera object with the camera device found first.\u001b[0m\u001b[1;33m\u001b[0m\u001b[1;33m\u001b[0m\u001b[1;33m\u001b[0m\u001b[0m\n\u001b[1;32m---> 20\u001b[1;33m \u001b[0mcamera\u001b[0m \u001b[1;33m=\u001b[0m \u001b[0mpylon\u001b[0m\u001b[1;33m.\u001b[0m\u001b[0mInstantCamera\u001b[0m\u001b[1;33m(\u001b[0m\u001b[0mpylon\u001b[0m\u001b[1;33m.\u001b[0m\u001b[0mTlFactory\u001b[0m\u001b[1;33m.\u001b[0m\u001b[0mGetInstance\u001b[0m\u001b[1;33m(\u001b[0m\u001b[1;33m)\u001b[0m\u001b[1;33m.\u001b[0m\u001b[0mCreateFirstDevice\u001b[0m\u001b[1;33m(\u001b[0m\u001b[1;33m)\u001b[0m\u001b[1;33m)\u001b[0m\u001b[1;33m\u001b[0m\u001b[1;33m\u001b[0m\u001b[0m\n\u001b[0m\u001b[0;32m     21\u001b[0m \u001b[0mcamera\u001b[0m\u001b[1;33m.\u001b[0m\u001b[0mOpen\u001b[0m\u001b[1;33m(\u001b[0m\u001b[1;33m)\u001b[0m\u001b[1;33m\u001b[0m\u001b[1;33m\u001b[0m\u001b[0m\n\u001b[0;32m     22\u001b[0m \u001b[1;33m\u001b[0m\u001b[0m\n",
      "\u001b[1;32mD:\\Anaconda\\envs\\cv\\lib\\site-packages\\pypylon\\pylon.py\u001b[0m in \u001b[0;36mCreateFirstDevice\u001b[1;34m(self, *args)\u001b[0m\n\u001b[0;32m   1580\u001b[0m \u001b[1;33m\u001b[0m\u001b[0m\n\u001b[0;32m   1581\u001b[0m         \"\"\"\n\u001b[1;32m-> 1582\u001b[1;33m         \u001b[1;32mreturn\u001b[0m \u001b[0m_pylon\u001b[0m\u001b[1;33m.\u001b[0m\u001b[0mTlFactory_CreateFirstDevice\u001b[0m\u001b[1;33m(\u001b[0m\u001b[0mself\u001b[0m\u001b[1;33m,\u001b[0m \u001b[1;33m*\u001b[0m\u001b[0margs\u001b[0m\u001b[1;33m)\u001b[0m\u001b[1;33m\u001b[0m\u001b[1;33m\u001b[0m\u001b[0m\n\u001b[0m\u001b[0;32m   1583\u001b[0m \u001b[1;33m\u001b[0m\u001b[0m\n\u001b[0;32m   1584\u001b[0m     \u001b[1;32mdef\u001b[0m \u001b[0mCreateDevice\u001b[0m\u001b[1;33m(\u001b[0m\u001b[0mself\u001b[0m\u001b[1;33m,\u001b[0m \u001b[1;33m*\u001b[0m\u001b[0margs\u001b[0m\u001b[1;33m)\u001b[0m \u001b[1;33m->\u001b[0m \u001b[1;34m\"Pylon::IPylonDevice *\"\u001b[0m\u001b[1;33m:\u001b[0m\u001b[1;33m\u001b[0m\u001b[1;33m\u001b[0m\u001b[0m\n",
      "\u001b[1;31mRuntimeException\u001b[0m: No device is available or no device contains the provided device info properties. : RuntimeException thrown (file 'tlfactory.cpp', line 694)"
     ]
    }
   ],
   "metadata": {}
  },
  {
   "cell_type": "code",
   "execution_count": 5,
   "source": [
    "camera.Close()"
   ],
   "outputs": [],
   "metadata": {}
  },
  {
   "cell_type": "code",
   "execution_count": null,
   "source": [],
   "outputs": [],
   "metadata": {}
  }
 ],
 "metadata": {
  "orig_nbformat": 4,
  "language_info": {
   "name": "python",
   "version": "3.7.10",
   "mimetype": "text/x-python",
   "codemirror_mode": {
    "name": "ipython",
    "version": 3
   },
   "pygments_lexer": "ipython3",
   "nbconvert_exporter": "python",
   "file_extension": ".py"
  },
  "kernelspec": {
   "name": "python3",
   "display_name": "Python 3.7.10 64-bit ('cv': conda)"
  },
  "interpreter": {
   "hash": "b09f46e2148908d6e9ff48fca3fbbffe50ea3e9cf804a00368496beda75da629"
  }
 },
 "nbformat": 4,
 "nbformat_minor": 2
}