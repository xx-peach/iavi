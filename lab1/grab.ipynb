{
 "cells": [
  {
   "cell_type": "code",
   "execution_count": null,
   "source": [
    "from pypylon import pylon\n",
    "\n",
    "camera = pylon.InstantCamera(pylon.TlFactory.GetInstance().CreateFirstDevice())\n",
    "camera.Open()\n",
    "\n",
    "# demonstrate some feature access\n",
    "new_width = camera.Width.GetValue() - camera.Width.GetInc()\n",
    "if new_width >= camera.Width.GetMin():\n",
    "    camera.Width.SetValue(new_width)\n",
    "\n",
    "numberOfImagesToGrab = 100\n",
    "camera.StartGrabbingMax(numberOfImagesToGrab)\n",
    "\n",
    "while camera.IsGrabbing():\n",
    "    grabResult = camera.RetrieveResult(5000, pylon.TimeoutHandling_ThrowException)\n",
    "\n",
    "    if grabResult.GrabSucceeded():\n",
    "        # Access the image data.\n",
    "        print(\"SizeX: \", grabResult.Width)\n",
    "        print(\"SizeY: \", grabResult.Height)\n",
    "        img = grabResult.Array\n",
    "        print(\"Gray value of first pixel: \", img[0, 0])\n",
    "\n",
    "    grabResult.Release()\n",
    "camera.Close()"
   ],
   "outputs": [],
   "metadata": {}
  }
 ],
 "metadata": {
  "orig_nbformat": 4,
  "language_info": {
   "name": "python",
   "version": "3.7.11"
  },
  "kernelspec": {
   "name": "python3",
   "display_name": "Python 3.7.11 64-bit ('cv_envs': conda)"
  },
  "interpreter": {
   "hash": "40a5ed5a0e8a82d9f717d1d726f8aadf269eda72e1afc8b608d12bc7579c9dc4"
  }
 },
 "nbformat": 4,
 "nbformat_minor": 2
}