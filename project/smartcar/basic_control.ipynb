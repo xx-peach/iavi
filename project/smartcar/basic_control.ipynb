{
 "cells": [
  {
   "cell_type": "markdown",
   "metadata": {},
   "source": [
    "# Control Test"
   ]
  },
  {
   "cell_type": "markdown",
   "metadata": {},
   "source": [
    "## 摄像头功能测试"
   ]
  },
  {
   "cell_type": "code",
   "execution_count": 5,
   "metadata": {},
   "outputs": [],
   "source": [
    "import cv2\n",
    "import ipywidgets.widgets as widgets\n",
    "import threading\n",
    "import time"
   ]
  },
  {
   "cell_type": "code",
   "execution_count": 6,
   "metadata": {},
   "outputs": [],
   "source": [
    "import enum\n",
    "\n",
    "def bgr8_to_jpeg(value, quality=75):\n",
    "    return bytes(cv2.imencode('.jpg', value)[1])   "
   ]
  },
  {
   "cell_type": "code",
   "execution_count": 7,
   "metadata": {},
   "outputs": [
    {
     "name": "stderr",
     "output_type": "stream",
     "text": [
      "[ WARN:0] global /tmp/pip-req-build-xw6jtoah/opencv/modules/videoio/src/cap_v4l.cpp (890) open VIDEOIO(V4L2:/dev/video0): can't open camera by index\n"
     ]
    },
    {
     "data": {
      "text/plain": [
       "False"
      ]
     },
     "execution_count": 7,
     "metadata": {},
     "output_type": "execute_result"
    }
   ],
   "source": [
    "# 打开摄像头\n",
    "image = cv2.VideoCapture(0)\n",
    "\n",
    "# width=1280\n",
    "# height=960\n",
    "# cap.set(cv2.CAP_PROP_FRAME_WIDTH,width)   # 设置图像宽度\n",
    "# cap.set(cv2.CAP_PROP_FRAME_HEIGHT,height) # 设置图像高度\n",
    "\n",
    "\n",
    "image.set(3,600)       \n",
    "image.set(4,500)\n",
    "image.set(5, 30)  # 设置帧率\n",
    "\n",
    "image.set(cv2.CAP_PROP_FOURCC, cv2.VideoWriter.fourcc('M', 'J', 'P', 'G'))\n",
    "image.set(cv2.CAP_PROP_BRIGHTNESS, 40) # 设置亮度 -64 - 64  0.0\n",
    "image.set(cv2.CAP_PROP_CONTRAST, 50)   # 设置对比度 -64 - 64  2.0\n",
    "image.set(cv2.CAP_PROP_EXPOSURE, 156)  # 设置曝光值 1.0 - 5000  156.0\n"
   ]
  },
  {
   "cell_type": "code",
   "execution_count": 8,
   "metadata": {},
   "outputs": [
    {
     "ename": "TypeError",
     "evalue": "'module' object is not callable",
     "output_type": "error",
     "traceback": [
      "\u001b[0;31m---------------------------------------------------------------------------\u001b[0m",
      "\u001b[0;31mTypeError\u001b[0m                                 Traceback (most recent call last)",
      "\u001b[0;32m/tmp/ipykernel_3897/3957700824.py\u001b[0m in \u001b[0;36m<module>\u001b[0;34m\u001b[0m\n\u001b[1;32m      2\u001b[0m \u001b[0mimage_widget\u001b[0m \u001b[0;34m=\u001b[0m \u001b[0mwidgets\u001b[0m\u001b[0;34m.\u001b[0m\u001b[0mImage\u001b[0m\u001b[0;34m(\u001b[0m\u001b[0mformat\u001b[0m\u001b[0;34m=\u001b[0m\u001b[0;34m'jpeg'\u001b[0m\u001b[0;34m,\u001b[0m \u001b[0mwidth\u001b[0m\u001b[0;34m=\u001b[0m\u001b[0;36m500\u001b[0m\u001b[0;34m,\u001b[0m \u001b[0mheight\u001b[0m\u001b[0;34m=\u001b[0m\u001b[0;36m400\u001b[0m\u001b[0;34m)\u001b[0m\u001b[0;34m\u001b[0m\u001b[0;34m\u001b[0m\u001b[0m\n\u001b[1;32m      3\u001b[0m \u001b[0;31m# 显示摄像头组件\u001b[0m\u001b[0;34m\u001b[0m\u001b[0;34m\u001b[0m\u001b[0;34m\u001b[0m\u001b[0m\n\u001b[0;32m----> 4\u001b[0;31m \u001b[0mdisplay\u001b[0m\u001b[0;34m(\u001b[0m\u001b[0mimage_widget\u001b[0m\u001b[0;34m)\u001b[0m\u001b[0;34m\u001b[0m\u001b[0;34m\u001b[0m\u001b[0m\n\u001b[0m",
      "\u001b[0;31mTypeError\u001b[0m: 'module' object is not callable"
     ]
    }
   ],
   "source": [
    "# 设置摄像头显示组件\n",
    "image_widget = widgets.Image(format='jpeg', width=500, height=400) \n",
    "# 显示摄像头组件\n",
    "display(image_widget)"
   ]
  },
  {
   "cell_type": "code",
   "execution_count": null,
   "metadata": {},
   "outputs": [],
   "source": [
    "while 1:\n",
    "    ret, frame = image.read()\n",
    "    image_widget.value = bgr8_to_jpeg(frame)\n",
    "    time.sleep(0.010)"
   ]
  },
  {
   "cell_type": "code",
   "execution_count": null,
   "metadata": {},
   "outputs": [],
   "source": [
    "image.release()"
   ]
  },
  {
   "cell_type": "markdown",
   "metadata": {},
   "source": [
    "## 摄像机云台转动测试"
   ]
  },
  {
   "cell_type": "code",
   "execution_count": null,
   "metadata": {},
   "outputs": [],
   "source": [
    "import RPi.GPIO as GPIO\n",
    "import time"
   ]
  },
  {
   "cell_type": "code",
   "execution_count": null,
   "metadata": {},
   "outputs": [],
   "source": [
    "# 舵机引脚定义\n",
    "'''\n",
    "    摄像头云台左右舵机是插在扩展板的S2 -> 11\n",
    "    摄像头云台上下舵机插在扩展板上的S3 -> 9\n",
    "'''\n",
    "\n",
    "left_N_right_Pin= 11\n",
    "up_N_down_Pin = 9\n",
    "\n",
    "# 设置GPIO口为BCM编码方式\n",
    "\n",
    "GPIO.setmode(GPIO.BCM)\n",
    "\n",
    "# 忽略警告信息\n",
    "\n",
    "GPIO.setwarnings(False)"
   ]
  },
  {
   "cell_type": "code",
   "execution_count": null,
   "metadata": {},
   "outputs": [],
   "source": [
    "# 舵机引脚设置为输出模式\n",
    "def init(Pin):\n",
    "    GPIO.setup(Pin, GPIO.OUT)\n",
    "\n",
    "# 定义一个脉冲函数，用来模拟方式产生pwm值. \n",
    "# 时基脉冲为20ms，该脉冲高电平部分在0.5-2.5ms控制0-180度\n",
    "def servo_pulse(Pin, angle):\n",
    "    pulsewidth = (angle * 11) + 500\n",
    "    GPIO.output(Pin, GPIO.HIGH)\n",
    "    time.sleep(pulsewidth/1000000.0)\n",
    "    GPIO.output(Pin, GPIO.LOW)\n",
    "    time.sleep(20.0/1000-pulsewidth/1000000.0)"
   ]
  },
  {
   "cell_type": "code",
   "execution_count": null,
   "metadata": {},
   "outputs": [],
   "source": [
    "# 左右转动测试\n",
    "\n",
    "init(left_N_right_Pin)\n",
    "\n",
    "for pos in range(20, 161):\n",
    "    servo_pulse(left_N_right_Pin, pos)\n",
    "    time.sleep(0.009)\n",
    "\n",
    "for pos in reversed(range(20, 161)):\n",
    "    servo_pulse(left_N_right_Pin, pos)\n",
    "    time.sleep(0.009)\n",
    "\n",
    "time.sleep(2)"
   ]
  },
  {
   "cell_type": "code",
   "execution_count": null,
   "metadata": {},
   "outputs": [],
   "source": [
    "# 上下转动测试\n",
    "\n",
    "init(up_N_down_Pin)\n",
    "\n",
    "for pos in range(80, 161):\n",
    "    servo_pulse(up_N_down_Pin, pos)\n",
    "    time.sleep(0.009)\n",
    "\n",
    "for pos in reversed(range(80, 161)):\n",
    "    servo_pulse(up_N_down_Pin, pos)\n",
    "    time.sleep(0.009)\n",
    "\n",
    "time.sleep(2)"
   ]
  },
  {
   "cell_type": "markdown",
   "metadata": {},
   "source": [
    "## 小车运动控制"
   ]
  },
  {
   "cell_type": "code",
   "execution_count": null,
   "metadata": {},
   "outputs": [],
   "source": [
    "import RPi.GPIO as GPIO\n",
    "import time"
   ]
  },
  {
   "cell_type": "code",
   "execution_count": null,
   "metadata": {},
   "outputs": [],
   "source": [
    "# 小车电机引脚定义\n",
    "IN1 = 20\n",
    "IN2 = 21\n",
    "IN3 = 19\n",
    "IN4 = 26\n",
    "ENA = 16\n",
    "ENB = 13\n",
    "\n",
    "# 设置GPIO口为BCM编码方式\n",
    "GPIO.setmode(GPIO.BCM)"
   ]
  },
  {
   "cell_type": "code",
   "execution_count": null,
   "metadata": {},
   "outputs": [],
   "source": [
    "# 电机引脚初始化操作\n",
    "\n",
    "def motor_init():\n",
    "    global pwm_ENA\n",
    "    global pwm_ENB\n",
    "    global delaytime\n",
    "\n",
    "    GPIO.setup(ENA,GPIO.OUT,initial=GPIO.HIGH)\n",
    "    GPIO.setup(IN1,GPIO.OUT,initial=GPIO.LOW)\n",
    "    GPIO.setup(IN2,GPIO.OUT,initial=GPIO.LOW)\n",
    "    GPIO.setup(ENB,GPIO.OUT,initial=GPIO.HIGH)\n",
    "    GPIO.setup(IN3,GPIO.OUT,initial=GPIO.LOW)\n",
    "    GPIO.setup(IN4,GPIO.OUT,initial=GPIO.LOW)\n",
    "\n",
    "    #设置pwm引脚和频率为2000hz\n",
    "    pwm_ENA = GPIO.PWM(ENA, 2000)\n",
    "    pwm_ENB = GPIO.PWM(ENB, 2000)\n",
    "    pwm_ENA.start(0)\n",
    "    pwm_ENB.start(0)"
   ]
  },
  {
   "cell_type": "code",
   "execution_count": null,
   "metadata": {},
   "outputs": [],
   "source": [
    "# 小车前进\n",
    "def run(delaytime):\n",
    "    GPIO.output(IN1, GPIO.HIGH)\n",
    "    GPIO.output(IN2, GPIO.LOW)\n",
    "    GPIO.output(IN3, GPIO.HIGH)\n",
    "    GPIO.output(IN4, GPIO.LOW)\n",
    "\n",
    "    pwm_ENA.ChangeDutyCycle(80)\n",
    "    pwm_ENB.ChangeDutyCycle(80)\n",
    "    time.sleep(delaytime)\n",
    "\n",
    "# 小车后退\n",
    "def back(delaytime):\n",
    "    GPIO.output(IN1, GPIO.LOW)\n",
    "    GPIO.output(IN2, GPIO.HIGH)\n",
    "    GPIO.output(IN3, GPIO.LOW)\n",
    "    GPIO.output(IN4, GPIO.HIGH)\n",
    "\n",
    "    pwm_ENA.ChangeDutyCycle(80)\n",
    "    pwm_ENB.ChangeDutyCycle(80)\n",
    "    time.sleep(delaytime)\n",
    "\n",
    "# 小车左转\n",
    "def left(delaytime):\n",
    "    GPIO.output(IN1, GPIO.LOW)\n",
    "    GPIO.output(IN2, GPIO.LOW)\n",
    "    GPIO.output(IN3, GPIO.HIGH)\n",
    "    GPIO.output(IN4, GPIO.LOW)\n",
    "\n",
    "    pwm_ENA.ChangeDutyCycle(80)\n",
    "    pwm_ENB.ChangeDutyCycle(80)\n",
    "    time.sleep(delaytime)\n",
    "\n",
    "# 小车右转\n",
    "def right(delaytime):\n",
    "    GPIO.output(IN1, GPIO.HIGH)\n",
    "    GPIO.output(IN2, GPIO.LOW)\n",
    "    GPIO.output(IN3, GPIO.LOW)\n",
    "    GPIO.output(IN4, GPIO.LOW)\n",
    "\n",
    "    pwm_ENA.ChangeDutyCycle(80)\n",
    "    pwm_ENB.ChangeDutyCycle(80)\n",
    "    time.sleep(delaytime)\n",
    "\n",
    "# 小车原地左转\n",
    "def spin_left(delaytime):\n",
    "    GPIO.output(IN1, GPIO.LOW)\n",
    "    GPIO.output(IN2, GPIO.HIGH)\n",
    "    GPIO.output(IN3, GPIO.HIGH)\n",
    "    GPIO.output(IN4, GPIO.LOW)\n",
    "\n",
    "    pwm_ENA.ChangeDutyCycle(80)\n",
    "    pwm_ENB.ChangeDutyCycle(80)\n",
    "    time.sleep(delaytime)\n",
    "\n",
    "# 小车原地右转\n",
    "def spin_right(delaytime):\n",
    "    GPIO.output(IN1, GPIO.HIGH)\n",
    "    GPIO.output(IN2, GPIO.LOW)\n",
    "    GPIO.output(IN3, GPIO.LOW)\n",
    "    GPIO.output(IN4, GPIO.HIGH)\n",
    "\n",
    "    pwm_ENA.ChangeDutyCycle(80)\n",
    "    pwm_ENB.ChangeDutyCycle(80)\n",
    "    time.sleep(delaytime)\n",
    "\n",
    "# 小车停止\n",
    "def brake(delaytime):\n",
    "    GPIO.output(IN1, GPIO.LOW)\n",
    "    GPIO.output(IN2, GPIO.LOW)\n",
    "    GPIO.output(IN3, GPIO.LOW)\n",
    "    GPIO.output(IN4, GPIO.LOW)\n",
    "\n",
    "    pwm_ENA.ChangeDutyCycle(80)\n",
    "    pwm_ENB.ChangeDutyCycle(80)\n",
    "    time.sleep(delaytime)"
   ]
  },
  {
   "cell_type": "code",
   "execution_count": null,
   "metadata": {},
   "outputs": [],
   "source": [
    "motor_init()"
   ]
  },
  {
   "cell_type": "code",
   "execution_count": null,
   "metadata": {},
   "outputs": [],
   "source": [
    "# 运动控制\n",
    "run(1)\n",
    "brake(1)\n",
    "\n",
    "left(1)\n",
    "brake(1)\n",
    "\n",
    "right(1)\n",
    "brake(1)\n",
    "\n",
    "back(1)\n",
    "brake(1)"
   ]
  }
 ],
 "metadata": {
  "interpreter": {
   "hash": "916dbcbb3f70747c44a77c7bcd40155683ae19c65e1c03b4aa3499c5328201f1"
  },
  "kernelspec": {
   "display_name": "Python 3.8.10 64-bit",
   "name": "python3"
  },
  "language_info": {
   "codemirror_mode": {
    "name": "ipython",
    "version": 3
   },
   "file_extension": ".py",
   "mimetype": "text/x-python",
   "name": "python",
   "nbconvert_exporter": "python",
   "pygments_lexer": "ipython3",
   "version": "3.8.10"
  },
  "orig_nbformat": 4
 },
 "nbformat": 4,
 "nbformat_minor": 2
}
