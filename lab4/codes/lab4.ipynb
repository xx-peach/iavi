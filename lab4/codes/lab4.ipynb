{
 "cells": [
  {
   "cell_type": "code",
   "execution_count": 22,
   "metadata": {},
   "outputs": [],
   "source": [
    "import numpy as np\n",
    "import cv2"
   ]
  },
  {
   "cell_type": "code",
   "execution_count": 25,
   "metadata": {},
   "outputs": [],
   "source": [
    "ZERO = 255\n",
    "ONE = 0\n",
    "def gray_code(n):                                   # 递归，代码简单，速度较应用序慢\n",
    "    if n == 1: return [[ZERO],[ONE]]\n",
    "    return [[ZERO]+i for i in gray_code(n-1)] + [[ONE]+i for i in gray_code(n-1)[::-1]]"
   ]
  },
  {
   "cell_type": "code",
   "execution_count": 29,
   "metadata": {},
   "outputs": [],
   "source": [
    "X = 512\n",
    "Y = 512\n",
    "N = int(np.log2(X))\n",
    "\n",
    "gray_codes = np.asarray(gray_code(N)).reshape(1, X, N)\n",
    "imgs = np.repeat(gray_codes, Y, axis = 0)\n",
    "\n",
    "for L in range(imgs.shape[2]):\n",
    "    cv2.imwrite(\"./codes/L\"+str(L)+\".jpg\", imgs[:,:,L])\n",
    "    cv2.imwrite(\"./codes/L\"+str(L)+\"_r.jpg\", 255-imgs[:,:,L])\n"
   ]
  },
  {
   "cell_type": "code",
   "execution_count": null,
   "metadata": {},
   "outputs": [],
   "source": []
  }
 ],
 "metadata": {
  "interpreter": {
   "hash": "12a5887d0bb5e6f7f12af69279d35b5497f5fec356987c05c6698d8be467ff84"
  },
  "kernelspec": {
   "display_name": "Python 3.7.11 64-bit ('cv': conda)",
   "name": "python3"
  },
  "language_info": {
   "codemirror_mode": {
    "name": "ipython",
    "version": 3
   },
   "file_extension": ".py",
   "mimetype": "text/x-python",
   "name": "python",
   "nbconvert_exporter": "python",
   "pygments_lexer": "ipython3",
   "version": "3.7.11"
  },
  "orig_nbformat": 4
 },
 "nbformat": 4,
 "nbformat_minor": 2
}
