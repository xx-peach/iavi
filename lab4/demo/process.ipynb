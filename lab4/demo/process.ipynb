{
 "cells": [
  {
   "cell_type": "code",
   "execution_count": 1,
   "source": [
    "import cv2\n",
    "import os\n",
    "import numpy as np\n",
    "import matplotlib.pyplot as plt"
   ],
   "outputs": [],
   "metadata": {}
  },
  {
   "cell_type": "code",
   "execution_count": 2,
   "source": [
    "ret = []\n",
    "path = './imgs/unknown'\n",
    "for i in range(1, 9):\n",
    "    o_path = os.path.join(path, 'o{}'.format(i) + '.png')\n",
    "    r_path = os.path.join(path, 'r{}'.format(i) + '.png')\n",
    "    o_img = cv2.cvtColor(cv2.imread(o_path), cv2.COLOR_BGR2GRAY)\n",
    "    r_img = cv2.cvtColor(cv2.imread(r_path), cv2.COLOR_BGR2GRAY)\n",
    "    res = np.zeros(o_img.shape)\n",
    "    res[o_img > r_img] = 1\n",
    "    ret.append(cv2.resize(res, dsize=(res.shape[1] // 2, res.shape[0] // 2)))\n"
   ],
   "outputs": [],
   "metadata": {}
  },
  {
   "cell_type": "code",
   "execution_count": 3,
   "source": [
    "ret_none = []\n",
    "path = './imgs/unknown'\n",
    "for i in range(1, 9):\n",
    "    o_path = os.path.join(path, 'no{}'.format(i) + '.png')\n",
    "    r_path = os.path.join(path, 'nr{}'.format(i) + '.png')\n",
    "    o_img = cv2.cvtColor(cv2.imread(o_path), cv2.COLOR_BGR2GRAY)\n",
    "    r_img = cv2.cvtColor(cv2.imread(r_path), cv2.COLOR_BGR2GRAY)\n",
    "    res = np.zeros(o_img.shape)\n",
    "    res[o_img > r_img] = 1\n",
    "    ret_none.append(cv2.resize(res, dsize=(res.shape[1] // 2, res.shape[0] // 2)))\n"
   ],
   "outputs": [],
   "metadata": {}
  },
  {
   "cell_type": "code",
   "execution_count": 4,
   "source": [
    "cv2.imshow('result1', ret[5])\n",
    "cv2.imshow('resilt2', ret_none[5])\n",
    "cv2.waitKey()\n",
    "cv2.destroyAllWindows()"
   ],
   "outputs": [],
   "metadata": {}
  },
  {
   "cell_type": "code",
   "execution_count": 5,
   "source": [
    "ret = np.zeros(o_img.shape, dtype=np.uint8)\n",
    "path = './imgs/unknown'\n",
    "for i in range(1, 9):\n",
    "    o_path = os.path.join(path, 'o{}'.format(i) + '.png')\n",
    "    r_path = os.path.join(path, 'r{}'.format(i) + '.png')\n",
    "    o_img = cv2.cvtColor(cv2.imread(o_path), cv2.COLOR_BGR2GRAY)\n",
    "    r_img = cv2.cvtColor(cv2.imread(r_path), cv2.COLOR_BGR2GRAY)\n",
    "    ret *= 2\n",
    "    ret[o_img > r_img] += 1\n"
   ],
   "outputs": [],
   "metadata": {}
  },
  {
   "cell_type": "code",
   "execution_count": 6,
   "source": [
    "ret = cv2.resize(ret, dsize=(ret.shape[1] // 2, ret.shape[0] // 2))"
   ],
   "outputs": [],
   "metadata": {}
  },
  {
   "cell_type": "code",
   "execution_count": 7,
   "source": [
    "ret_none = np.zeros(o_img.shape, dtype=np.uint8)\n",
    "path = './imgs/unknown'\n",
    "for i in range(1, 9):\n",
    "    o_path = os.path.join(path, 'no{}'.format(i) + '.png')\n",
    "    r_path = os.path.join(path, 'nr{}'.format(i) + '.png')\n",
    "    o_img = cv2.cvtColor(cv2.imread(o_path), cv2.COLOR_BGR2GRAY)\n",
    "    r_img = cv2.cvtColor(cv2.imread(r_path), cv2.COLOR_BGR2GRAY)\n",
    "    ret_none *= 2\n",
    "    ret_none[o_img > r_img] += 1\n"
   ],
   "outputs": [],
   "metadata": {}
  },
  {
   "cell_type": "code",
   "execution_count": 8,
   "source": [
    "ret_none = cv2.resize(ret_none, dsize=(ret_none.shape[1] // 2, ret_none.shape[0] // 2))"
   ],
   "outputs": [],
   "metadata": {}
  },
  {
   "cell_type": "code",
   "execution_count": 9,
   "source": [
    "cv2.imshow('1', ret)\n",
    "cv2.imshow('2', ret_none)\n",
    "cv2.waitKey()\n",
    "cv2.destroyAllWindows()"
   ],
   "outputs": [],
   "metadata": {}
  },
  {
   "cell_type": "code",
   "execution_count": 10,
   "source": [
    "imgL = ret\n",
    "imgR = ret_none"
   ],
   "outputs": [],
   "metadata": {}
  },
  {
   "cell_type": "code",
   "execution_count": 11,
   "source": [
    "ply_header = '''ply\n",
    "format ascii 1.0\n",
    "element vertex %(vert_num)d\n",
    "property float x\n",
    "property float y\n",
    "property float z\n",
    "property uchar red\n",
    "property uchar green\n",
    "property uchar blue\n",
    "end_header\n",
    "'''\n",
    "\n",
    "def write_ply(fn, verts, colors):\n",
    "    verts = verts.reshape(-1, 3)\n",
    "    colors = colors.reshape(-1, 3)\n",
    "    verts = np.hstack([verts, colors])\n",
    "    with open(fn, 'wb') as f:\n",
    "        f.write((ply_header % dict(vert_num=len(verts))).encode('utf-8'))\n",
    "        np.savetxt(f, verts, fmt='%f %f %f %d %d %d ')"
   ],
   "outputs": [],
   "metadata": {}
  },
  {
   "cell_type": "code",
   "execution_count": 17,
   "source": [
    "window_size = 5\n",
    "min_disp = 4\n",
    "num_disp = 128 - min_disp\n",
    "# min_disp = 4\n",
    "# num_disp = 20-min_disp\n",
    "stereo = cv2.StereoSGBM_create(minDisparity = min_disp,\n",
    "    numDisparities = num_disp,\n",
    "    blockSize = 4,\n",
    "    P1 = 8*3*window_size**2,\n",
    "    P2 = 32*3*window_size**2,\n",
    "    disp12MaxDiff = 4,\n",
    "    uniquenessRatio = 10,\n",
    "    speckleWindowSize = 100,\n",
    "    speckleRange = 100,\n",
    "    # mode=cv22.STEREO_SGBM_MODE_SGBM_3WAY\n",
    ")\n",
    "\n",
    "print('computing disparity...')\n",
    "disp = stereo.compute(imgL, imgR).astype(np.float32) / 16.0\n",
    "\n",
    "print('generating 3d point cloud...',)\n",
    "h, w = imgL.shape[:2]\n",
    "# f = 0.8*w                          # guess for focal length\n",
    "f = 394.59508339\n",
    "Q = np.float32([[1, 0,  0, -0.5*w],\n",
    "                [0, -1, 0, 0.5*h], # turn points 180 deg around x-axis,\n",
    "                [0, 0,  0, -f], # so that y-axis looks up\n",
    "                [0, 0,  1, 0]])\n",
    "# Q = np.float32([[1, 0, 0, 0],\n",
    "#             [0, -1, 0, 0], # turn points 180 deg around x-axis,\n",
    "#             [0, 0, 0, -f], # so that y-axis looks up\n",
    "#             [0, 0, 1, 0]])\n",
    "# Q = np.float32([[1, 0, 0, 0],\n",
    "#                 [0, 1, 0, 0],\n",
    "#                 [0, 0, 1, 0],\n",
    "#                 [0, 0, 0, 1]])\n",
    "points = cv2.reprojectImageTo3D(disp, Q)\n",
    "colors = cv2.cvtColor(imgL, cv2.COLOR_BGR2RGB)\n",
    "mask = disp > disp.min()\n",
    "out_points = points[mask]\n",
    "out_colors = colors[mask]\n",
    "out_fn = 'out.ply'\n",
    "write_ply(out_fn, out_points, out_colors)\n",
    "print('%s saved' % out_fn)\n",
    "\n",
    "cv2.imshow('left', imgL)\n",
    "cv2.imshow('disparity', (disp-min_disp)/num_disp)\n",
    "cv2.waitKey()\n",
    "cv2.destroyAllWindows()"
   ],
   "outputs": [
    {
     "output_type": "stream",
     "name": "stdout",
     "text": [
      "computing disparity...\n",
      "generating 3d point cloud...\n",
      "out.ply saved\n"
     ]
    }
   ],
   "metadata": {}
  },
  {
   "cell_type": "code",
   "execution_count": 61,
   "source": [
    "cv2.imwrite('l.png', imgL)\n",
    "cv2.imwrite('r.png', imgR)"
   ],
   "outputs": [
    {
     "output_type": "execute_result",
     "data": {
      "text/plain": [
       "True"
      ]
     },
     "metadata": {},
     "execution_count": 61
    }
   ],
   "metadata": {}
  },
  {
   "cell_type": "code",
   "execution_count": 96,
   "source": [
    "imgl = imgL[100:550, 320:800]\n",
    "imgr = imgR[200:500, 320:800]\n",
    "# img = np.abs(imgL[200:500, 320:800] - imgR[200:500, 320:800])\n",
    "cv2.imshow('left', imgl)\n",
    "cv2.waitKey()\n",
    "cv2.destroyAllWindows()"
   ],
   "outputs": [],
   "metadata": {}
  },
  {
   "cell_type": "code",
   "execution_count": 97,
   "source": [
    "# a = np.where(img == )\n",
    "# np.max(img)\n",
    "# np.mean(a[1])"
   ],
   "outputs": [],
   "metadata": {}
  },
  {
   "cell_type": "code",
   "execution_count": 98,
   "source": [
    "res = np.zeros(imgl.shape)\n",
    "for i in range(256):\n",
    "    a = np.where(imgl == i)\n",
    "    b = np.where(imgr == i)\n",
    "    if len(a[1]) == 0 or len(b[1]) == 0:\n",
    "        continue\n",
    "    # print(a[1])\n",
    "    # break\n",
    "    # if len(a) == 0:\n",
    "        # continue\n",
    "    # print(np.mean(a[1]) - np.mean(b[1]))\n",
    "    res[imgl == i] = np.abs(np.mean(a[1]) - np.mean(b[1]))"
   ],
   "outputs": [],
   "metadata": {}
  },
  {
   "cell_type": "code",
   "execution_count": 99,
   "source": [
    "# print(res)\n",
    "res = res*10\n",
    "res = np.floor(res)\n",
    "res = res.astype(np.uint8)\n",
    "print(np.max(res))\n",
    "print(res.dtype)"
   ],
   "outputs": [
    {
     "output_type": "stream",
     "name": "stdout",
     "text": [
      "247\n",
      "uint8\n"
     ]
    }
   ],
   "metadata": {}
  },
  {
   "cell_type": "code",
   "execution_count": 100,
   "source": [
    "cv2.imshow('left', res)\n",
    "cv2.waitKey()\n",
    "cv2.destroyAllWindows()"
   ],
   "outputs": [],
   "metadata": {}
  },
  {
   "cell_type": "code",
   "execution_count": 144,
   "source": [
    "def meanBlur(src, ksize):\n",
    "    '''\n",
    "    INPUT:\n",
    "    src: input image\n",
    "    ksize: kernel size, tuple or intger\n",
    "    \n",
    "    OUTPUT:\n",
    "    dst: return image \n",
    "    '''\n",
    "\n",
    "    print(\"Running medianBlur...\")\n",
    "    print(\"It may takes about 10~20 seconds to finish it...\")\n",
    "\n",
    "    # 得到图片的相关信息\n",
    "    width, height = src.shape\n",
    "    rst = np.zeros((width, height), dtype=np.int32)\n",
    "    padding_size = ksize // 2\n",
    "    img = np.pad(src, ((padding_size, padding_size), (padding_size, padding_size)), mode='edge')\n",
    "    \n",
    "    # 取中位数作为点的值\n",
    "    for i in range(width):\n",
    "        for j in range(height):\n",
    "            rst[i, j] = np.min(img[i:i+ksize, j:j+ksize],  axis=(0, 1))\n",
    "\n",
    "    return rst"
   ],
   "outputs": [],
   "metadata": {}
  },
  {
   "cell_type": "code",
   "execution_count": 145,
   "source": [
    "res_ = meanBlur(res, 3)"
   ],
   "outputs": [
    {
     "output_type": "stream",
     "name": "stdout",
     "text": [
      "Running medianBlur...\n",
      "It may takes about 10~20 seconds to finish it...\n"
     ]
    }
   ],
   "metadata": {}
  },
  {
   "cell_type": "code",
   "execution_count": 146,
   "source": [
    "t = np.hstack((res_, imgl))\n",
    "cv2.imwrite('3.png', t)"
   ],
   "outputs": [
    {
     "output_type": "execute_result",
     "data": {
      "text/plain": [
       "True"
      ]
     },
     "metadata": {},
     "execution_count": 146
    }
   ],
   "metadata": {}
  },
  {
   "cell_type": "code",
   "execution_count": 147,
   "source": [
    "print(res.shape)\n",
    "points = [[i, j, res_[i, j]] for i in range(res.shape[0]) for j in range(res.shape[1])]\n",
    "print(points[0])\n",
    "points = np.array(points)"
   ],
   "outputs": [
    {
     "output_type": "stream",
     "name": "stdout",
     "text": [
      "(450, 480)\n",
      "[0, 0, 11]\n"
     ]
    }
   ],
   "metadata": {}
  },
  {
   "cell_type": "code",
   "execution_count": 148,
   "source": [
    "ply_header = '''ply\n",
    "format ascii 1.0\n",
    "element vertex %(vert_num)d\n",
    "property float x\n",
    "property float y\n",
    "property float z\n",
    "end_header\n",
    "'''\n",
    "\n",
    "def write_ply(fn, verts):\n",
    "    verts = verts.reshape(-1, 3)\n",
    "    # colors = colors.reshape(-1, 3)\n",
    "    # verts = np.hstack([verts, colors])\n",
    "    with open(fn, 'wb') as f:\n",
    "        f.write((ply_header % dict(vert_num=len(verts))).encode('utf-8'))\n",
    "        np.savetxt(f, verts, fmt='%f %f %f')"
   ],
   "outputs": [],
   "metadata": {}
  },
  {
   "cell_type": "code",
   "execution_count": 149,
   "source": [
    "write_ply('out.ply', points)"
   ],
   "outputs": [],
   "metadata": {}
  },
  {
   "cell_type": "code",
   "execution_count": null,
   "source": [],
   "outputs": [],
   "metadata": {}
  }
 ],
 "metadata": {
  "interpreter": {
   "hash": "40a5ed5a0e8a82d9f717d1d726f8aadf269eda72e1afc8b608d12bc7579c9dc4"
  },
  "kernelspec": {
   "name": "python3",
   "display_name": "Python 3.7.11 64-bit ('cv_envs': conda)"
  },
  "language_info": {
   "codemirror_mode": {
    "name": "ipython",
    "version": 3
   },
   "file_extension": ".py",
   "mimetype": "text/x-python",
   "name": "python",
   "nbconvert_exporter": "python",
   "pygments_lexer": "ipython3",
   "version": "3.7.11"
  },
  "orig_nbformat": 4
 },
 "nbformat": 4,
 "nbformat_minor": 2
}