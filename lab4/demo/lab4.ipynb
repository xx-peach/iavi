{
 "cells": [
  {
   "cell_type": "code",
   "execution_count": 1,
   "metadata": {},
   "outputs": [],
   "source": [
    "import numpy as np\n",
    "import cv2"
   ]
  },
  {
   "cell_type": "code",
   "execution_count": 2,
   "metadata": {},
   "outputs": [],
   "source": [
    "ZERO = 255\n",
    "ONE = 0\n",
    "def gray_code(n):                                   # 递归，代码简单，速度较应用序慢\n",
    "    if n == 1: return [[ZERO],[ONE]]\n",
    "    return [[ZERO]+i for i in gray_code(n-1)] + [[ONE]+i for i in gray_code(n-1)[::-1]]"
   ]
  },
  {
   "cell_type": "code",
   "execution_count": 4,
   "metadata": {},
   "outputs": [],
   "source": [
    "X = 1024\n",
    "Y = 1024\n",
    "N = int(np.log2(X))\n",
    "\n",
    "gray_codes = np.asarray(gray_code(N)).reshape(1, X, N)\n",
    "imgs = np.repeat(gray_codes, Y, axis = 0)\n",
    "\n",
    "for L in range(imgs.shape[2]):\n",
    "    cv2.imwrite(\"./gray/\"+str(L)+\"_o.jpg\", imgs[:,:,L])\n",
    "    cv2.imwrite(\"./gray/\"+str(L)+\"_r.jpg\", 255-imgs[:,:,L])\n"
   ]
  },
  {
   "cell_type": "code",
   "execution_count": null,
   "metadata": {},
   "outputs": [],
   "source": []
  }
 ],
 "metadata": {
  "interpreter": {
   "hash": "45b007e6177f67d35e0330fe5607cbada17c288157a609558ca22c6ce38304f9"
  },
  "kernelspec": {
   "display_name": "Python 3.8.8 64-bit ('base': conda)",
   "name": "python3"
  },
  "language_info": {
   "codemirror_mode": {
    "name": "ipython",
    "version": 3
   },
   "file_extension": ".py",
   "mimetype": "text/x-python",
   "name": "python",
   "nbconvert_exporter": "python",
   "pygments_lexer": "ipython3",
   "version": "3.8.8"
  },
  "orig_nbformat": 4
 },
 "nbformat": 4,
 "nbformat_minor": 2
}
